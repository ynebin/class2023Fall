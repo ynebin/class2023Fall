{
  "nbformat": 4,
  "nbformat_minor": 0,
  "metadata": {
    "colab": {
      "provenance": [],
      "authorship_tag": "ABX9TyPrdWFKltA7LzlAKH4meMbK",
      "include_colab_link": true
    },
    "kernelspec": {
      "name": "python3",
      "display_name": "Python 3"
    },
    "language_info": {
      "name": "python"
    }
  },
  "cells": [
    {
      "cell_type": "markdown",
      "metadata": {
        "id": "view-in-github",
        "colab_type": "text"
      },
      "source": [
        "<a href=\"https://colab.research.google.com/github/ynebin/class2023Fall/blob/main/W6_1006.ipynb\" target=\"_parent\"><img src=\"https://colab.research.google.com/assets/colab-badge.svg\" alt=\"Open In Colab\"/></a>"
      ]
    },
    {
      "cell_type": "markdown",
      "source": [
        "# Library\n",
        "* a collection of pre-written codes\n",
        "* provides various functions and tools"
      ],
      "metadata": {
        "id": "WCfUEzQjRFme"
      }
    },
    {
      "cell_type": "markdown",
      "source": [
        "## python standard library\n",
        "* library that comes bundled with python itself\n",
        "* available without the need for external installation"
      ],
      "metadata": {
        "id": "E38HnpruRMW9"
      }
    },
    {
      "cell_type": "code",
      "source": [
        "import os\n",
        "\n",
        "print(os.getcwd())  # returns the current working directory"
      ],
      "metadata": {
        "colab": {
          "base_uri": "https://localhost:8080/"
        },
        "id": "n3-z9BMTRPxg",
        "outputId": "8b8d6b11-62ee-4106-9e37-bb5847be59f3"
      },
      "execution_count": 1,
      "outputs": [
        {
          "output_type": "stream",
          "name": "stdout",
          "text": [
            "/content\n"
          ]
        }
      ]
    },
    {
      "cell_type": "code",
      "source": [
        "import math\n",
        "\n",
        "print(math.sqrt(16))  # calculates the square root\n",
        "print(math.pi)  # a constant that represents π"
      ],
      "metadata": {
        "colab": {
          "base_uri": "https://localhost:8080/"
        },
        "id": "XR8odm0tRFOI",
        "outputId": "190b6597-5f40-45e6-eaa9-d57ad02eaaf1"
      },
      "execution_count": 2,
      "outputs": [
        {
          "output_type": "stream",
          "name": "stdout",
          "text": [
            "4.0\n",
            "3.141592653589793\n"
          ]
        }
      ]
    },
    {
      "cell_type": "markdown",
      "source": [
        "## external library\n",
        "* not part of python standard library\n",
        "* needs to be separately installed with `pip` in the terminal\n",
        "* created by third-party developers"
      ],
      "metadata": {
        "id": "LrGaNQtXRi71"
      }
    },
    {
      "cell_type": "markdown",
      "source": [
        "# numpy\n",
        "* one of the most fundamental and widely used external libraries\n",
        "* used for numerical and scientific computing"
      ],
      "metadata": {
        "id": "D1q5vbInSIQx"
      }
    },
    {
      "cell_type": "markdown",
      "source": [
        "## numpy array\n",
        "* fundamental data structure provided by `numpy`\n",
        "* similar to python lists"
      ],
      "metadata": {
        "id": "4aOozYsKSPEM"
      }
    },
    {
      "cell_type": "code",
      "source": [
        "import numpy as np\n",
        "\n",
        "a = np.array([1, 2, 3, 4, -1])\n",
        "\n",
        "print(a)\n",
        "print(type(a))\n",
        "print(a.dtype)"
      ],
      "metadata": {
        "colab": {
          "base_uri": "https://localhost:8080/"
        },
        "id": "2ca6Gt0jSLDo",
        "outputId": "b563eeab-078b-4596-c815-1703ffdd690c"
      },
      "execution_count": 3,
      "outputs": [
        {
          "output_type": "stream",
          "name": "stdout",
          "text": [
            "[ 1  2  3  4 -1]\n",
            "<class 'numpy.ndarray'>\n",
            "int64\n"
          ]
        }
      ]
    },
    {
      "cell_type": "code",
      "source": [
        "print(a[0])\n",
        "print(a[2:4])\n",
        "\n",
        "a[-1] = 5\n",
        "print(a)"
      ],
      "metadata": {
        "colab": {
          "base_uri": "https://localhost:8080/"
        },
        "id": "IG9w9CunyGTI",
        "outputId": "b93db3fc-ead5-4ffd-baeb-a8f4ce8ab765"
      },
      "execution_count": 4,
      "outputs": [
        {
          "output_type": "stream",
          "name": "stdout",
          "text": [
            "1\n",
            "[3 4]\n",
            "[1 2 3 4 5]\n"
          ]
        }
      ]
    },
    {
      "cell_type": "markdown",
      "source": [
        "## element-wise calculations"
      ],
      "metadata": {
        "id": "lvPA-tSuS17Q"
      }
    },
    {
      "cell_type": "code",
      "source": [
        "a = np.array([1, 2, 3])\n",
        "\n",
        "print(f\"a + 2: {a + 2}\")\n",
        "print(f\"a - 2: {a - 2}\")\n",
        "print(f\"a * 2: {a * 2}\")\n",
        "print(f\"a / 2: {a / 2}\")\n",
        "print(f\"a ** 2: {a ** 2}\")"
      ],
      "metadata": {
        "colab": {
          "base_uri": "https://localhost:8080/"
        },
        "id": "R2kZ0g1_Ssgg",
        "outputId": "49df5bbd-6aaf-43ef-c3fd-de6c84eb826a"
      },
      "execution_count": 5,
      "outputs": [
        {
          "output_type": "stream",
          "name": "stdout",
          "text": [
            "a + 2: [3 4 5]\n",
            "a - 2: [-1  0  1]\n",
            "a * 2: [2 4 6]\n",
            "a / 2: [0.5 1.  1.5]\n",
            "a ** 2: [1 4 9]\n"
          ]
        }
      ]
    },
    {
      "cell_type": "code",
      "source": [
        "b = np.array([2, 3, 4])\n",
        "\n",
        "print(f\"a + b: {a + b}\")\n",
        "print(f\"a - b: {a - b}\")\n",
        "print(f\"a * b: {a * b}\")\n",
        "print(f\"a / b: {a / b}\")\n",
        "print(f\"a ** b: {a ** b}\")"
      ],
      "metadata": {
        "colab": {
          "base_uri": "https://localhost:8080/"
        },
        "id": "hG_jQDWWTQNa",
        "outputId": "55705ba9-ac7f-4eee-d5c2-aa9b886cd962"
      },
      "execution_count": 6,
      "outputs": [
        {
          "output_type": "stream",
          "name": "stdout",
          "text": [
            "a + b: [3 5 7]\n",
            "a - b: [-1 -1 -1]\n",
            "a * b: [ 2  6 12]\n",
            "a / b: [0.5        0.66666667 0.75      ]\n",
            "a ** b: [ 1  8 81]\n"
          ]
        }
      ]
    },
    {
      "cell_type": "markdown",
      "source": [
        "## basic functions\n",
        "* `np.sum`: returns sum of the elements\n",
        "* `np.mean`: returns mean of the elements\n",
        "* `np.min`: returns the smallest element\n",
        "* `np.max`: returns the largest element"
      ],
      "metadata": {
        "id": "NCEbyUlf0brt"
      }
    },
    {
      "cell_type": "code",
      "source": [
        "# a = np.array([1, 2, 3])\n",
        "\n",
        "print(np.sum(a))\n",
        "print(np.mean(a))\n",
        "print(np.min(a))\n",
        "print(np.max(a))"
      ],
      "metadata": {
        "colab": {
          "base_uri": "https://localhost:8080/"
        },
        "id": "-IftOvgyTwey",
        "outputId": "431f9bd9-c989-4d1d-fd29-4d7d7e8a5277"
      },
      "execution_count": 7,
      "outputs": [
        {
          "output_type": "stream",
          "name": "stdout",
          "text": [
            "6\n",
            "2.0\n",
            "1\n",
            "3\n"
          ]
        }
      ]
    },
    {
      "cell_type": "markdown",
      "source": [
        "* `np.zeros`: creates an array filled with zeros\n",
        "* `np.ones`: creates an array filled with ones"
      ],
      "metadata": {
        "id": "PtXWf3t3WPIe"
      }
    },
    {
      "cell_type": "code",
      "source": [
        "print(np.zeros(2))\n",
        "print(np.ones((2, 2)))"
      ],
      "metadata": {
        "colab": {
          "base_uri": "https://localhost:8080/"
        },
        "id": "-mVb3P9EWdaB",
        "outputId": "042f13e4-bb8a-438c-88c0-c7b2076b007b"
      },
      "execution_count": 8,
      "outputs": [
        {
          "output_type": "stream",
          "name": "stdout",
          "text": [
            "[0. 0.]\n",
            "[[1. 1.]\n",
            " [1. 1.]]\n"
          ]
        }
      ]
    },
    {
      "cell_type": "markdown",
      "source": [
        "## speed"
      ],
      "metadata": {
        "id": "8-pJUqOgUPlp"
      }
    },
    {
      "cell_type": "code",
      "source": [
        "import time\n",
        "\n",
        "a = [i for i in range(1000000)]\n",
        "b = np.array(a)\n",
        "\n",
        "start_time = time.time()\n",
        "a = [i**2 for i in a]\n",
        "end_time = time.time()\n",
        "\n",
        "list_time = end_time - start_time\n",
        "print(f\"list: {list_time}\")\n",
        "\n",
        "start_time = time.time()\n",
        "b = b**2\n",
        "end_time = time.time()\n",
        "\n",
        "np_time = end_time - start_time\n",
        "print(f\"numpy: {np_time}\")"
      ],
      "metadata": {
        "id": "W362KTcNTk_Z",
        "colab": {
          "base_uri": "https://localhost:8080/"
        },
        "outputId": "9951575e-17f7-4792-c133-7b0f4d7b34a0"
      },
      "execution_count": 9,
      "outputs": [
        {
          "output_type": "stream",
          "name": "stdout",
          "text": [
            "list: 0.32639575004577637\n",
            "numpy: 0.004053831100463867\n"
          ]
        }
      ]
    },
    {
      "cell_type": "markdown",
      "source": [
        "## multi-dimensional array"
      ],
      "metadata": {
        "id": "jWLMQq6VbaIv"
      }
    },
    {
      "cell_type": "code",
      "source": [
        "# single dimension (1D)\n",
        "\n",
        "a = np.array([1, 2, 3])\n",
        "\n",
        "print(a)\n",
        "print(f\"shape of a: {a.shape}\")"
      ],
      "metadata": {
        "colab": {
          "base_uri": "https://localhost:8080/"
        },
        "id": "MVX7ZfaF4gXt",
        "outputId": "eddb2225-ca4f-43f1-dc85-2c19a1407f3b"
      },
      "execution_count": 10,
      "outputs": [
        {
          "output_type": "stream",
          "name": "stdout",
          "text": [
            "[1 2 3]\n",
            "shape of a: (3,)\n"
          ]
        }
      ]
    },
    {
      "cell_type": "markdown",
      "source": [
        "* 3x2 2D matrix (3 rows x 2 columns)\n",
        "\n",
        "\n",
        "||column 0|column 1|\n",
        "|-|-|-|\n",
        "|**row 0**|1|2|\n",
        "|**row 1**|3|4|\n",
        "|**row 2**|5|6|"
      ],
      "metadata": {
        "id": "k-5S5n8b6DDe"
      }
    },
    {
      "cell_type": "code",
      "source": [
        "# multi dimension (2D)\n",
        "\n",
        "b = np.array([[1, 2], [3, 4], [5, 6]])\n",
        "\n",
        "print(b)\n",
        "print(f\"shape of b: {b.shape}\")"
      ],
      "metadata": {
        "colab": {
          "base_uri": "https://localhost:8080/"
        },
        "id": "5zR96xH94dKU",
        "outputId": "1b43edd1-0519-4d17-e7c5-34775ce732bd"
      },
      "execution_count": 11,
      "outputs": [
        {
          "output_type": "stream",
          "name": "stdout",
          "text": [
            "[[1 2]\n",
            " [3 4]\n",
            " [5 6]]\n",
            "shape of b: (3, 2)\n"
          ]
        }
      ]
    },
    {
      "cell_type": "code",
      "source": [
        "print(f\"row 0: {b[0, :]}\")\n",
        "print(f\"row 1: {b[1, :]}\")\n",
        "print(f\"row 2: {b[2, :]}\")"
      ],
      "metadata": {
        "colab": {
          "base_uri": "https://localhost:8080/"
        },
        "id": "WDdbjoUn3JkA",
        "outputId": "d744c302-0457-4d56-fdd5-e12bd6fcac05"
      },
      "execution_count": 12,
      "outputs": [
        {
          "output_type": "stream",
          "name": "stdout",
          "text": [
            "row 0: [1 2]\n",
            "row 1: [3 4]\n",
            "row 2: [5 6]\n"
          ]
        }
      ]
    },
    {
      "cell_type": "code",
      "source": [
        "print(f\"column 0: {b[:, 0]}\")\n",
        "print(f\"column 1: {b[:, 1]}\")"
      ],
      "metadata": {
        "colab": {
          "base_uri": "https://localhost:8080/"
        },
        "id": "S5NZXc4f3wqX",
        "outputId": "5a249a98-0750-445a-ac01-26cd762a0f88"
      },
      "execution_count": 13,
      "outputs": [
        {
          "output_type": "stream",
          "name": "stdout",
          "text": [
            "column 0: [1 3 5]\n",
            "column 1: [2 4 6]\n"
          ]
        }
      ]
    },
    {
      "cell_type": "code",
      "source": [
        "print(b[0, 0])\n",
        "print(b[0, 1])\n",
        "print(b[1, 0])\n",
        "print(b[1, 1])\n",
        "print(b[2, 0])\n",
        "print(b[2, 1])"
      ],
      "metadata": {
        "colab": {
          "base_uri": "https://localhost:8080/"
        },
        "id": "DQpHcsHA29sf",
        "outputId": "0b9cca35-06e2-46ab-b273-5e28b4aed9c3"
      },
      "execution_count": 14,
      "outputs": [
        {
          "output_type": "stream",
          "name": "stdout",
          "text": [
            "1\n",
            "2\n",
            "3\n",
            "4\n",
            "5\n",
            "6\n"
          ]
        }
      ]
    },
    {
      "cell_type": "markdown",
      "source": [
        "### np.matmul\n",
        "* performs matrix multiplication"
      ],
      "metadata": {
        "id": "MHCYRwcU26bJ"
      }
    },
    {
      "cell_type": "code",
      "source": [
        "a = np.array([[1, 2, 3], [4, 5, 6]])\n",
        "b = np.array([[1, 2], [3, 4], [5, 6]])\n",
        "\n",
        "print(a)\n",
        "print(f\"shape of a: {a.shape}\")\n",
        "print(b)\n",
        "print(f\"shape of b: {b.shape}\")"
      ],
      "metadata": {
        "colab": {
          "base_uri": "https://localhost:8080/"
        },
        "id": "fCnLQGBB27jT",
        "outputId": "8dfe982b-cc08-4547-e5e1-c9c4c6f9a211"
      },
      "execution_count": 15,
      "outputs": [
        {
          "output_type": "stream",
          "name": "stdout",
          "text": [
            "[[1 2 3]\n",
            " [4 5 6]]\n",
            "shape of a: (2, 3)\n",
            "[[1 2]\n",
            " [3 4]\n",
            " [5 6]]\n",
            "shape of b: (3, 2)\n"
          ]
        }
      ]
    },
    {
      "cell_type": "markdown",
      "source": [
        "`a`\n",
        "\n",
        "|1 2 3|<br />\n",
        "|4 5 6|\n",
        "\n",
        "\n",
        "`b`\n",
        "\n",
        "|1 2|<br />\n",
        "|3 4|<br />\n",
        "|5 6|\n",
        "\n",
        "\n",
        "`np.matmul(a, b)`\n",
        "\n",
        "|1`*`1`+`2`*`3`+`3`*`5 &nbsp;&nbsp;&nbsp;1`*`2`+`2`*`4`+`3`*`6|<br />\n",
        "|4`*`1`+`5`*`3`+`6`*`5 &nbsp;&nbsp;&nbsp;4`*`2`+`5`*`4`+`6`*`6|"
      ],
      "metadata": {
        "id": "41H0Vx7i8Dy5"
      }
    },
    {
      "cell_type": "code",
      "source": [
        "c = np.matmul(a, b)\n",
        "\n",
        "print(c)\n",
        "print(f\"shape of c: {c.shape}\")"
      ],
      "metadata": {
        "colab": {
          "base_uri": "https://localhost:8080/"
        },
        "id": "qarPpGVI32aq",
        "outputId": "08752a6e-77f7-486c-dcb4-193c45d5ca23"
      },
      "execution_count": 16,
      "outputs": [
        {
          "output_type": "stream",
          "name": "stdout",
          "text": [
            "[[22 28]\n",
            " [49 64]]\n",
            "shape of c: (2, 2)\n"
          ]
        }
      ]
    },
    {
      "cell_type": "markdown",
      "source": [
        "### .reshape\n",
        "`a.reshape(b)`\n",
        "\n",
        "* changes the shape of an array"
      ],
      "metadata": {
        "id": "_ZKygiSo4OwT"
      }
    },
    {
      "cell_type": "code",
      "source": [
        "print(f\"{a}\\n\")\n",
        "print(a.reshape((3, 2)))"
      ],
      "metadata": {
        "colab": {
          "base_uri": "https://localhost:8080/"
        },
        "id": "ruKl5Tbn4RZx",
        "outputId": "596065a3-274f-4add-e651-6de23f1fe16d"
      },
      "execution_count": 17,
      "outputs": [
        {
          "output_type": "stream",
          "name": "stdout",
          "text": [
            "[[1 2 3]\n",
            " [4 5 6]]\n",
            "\n",
            "[[1 2]\n",
            " [3 4]\n",
            " [5 6]]\n"
          ]
        }
      ]
    },
    {
      "cell_type": "markdown",
      "source": [
        "### np.transpose\n",
        "`np.transpose(a)`\n",
        "\n",
        "* flips the shape of an array along its axes"
      ],
      "metadata": {
        "id": "KbmssOlH4buw"
      }
    },
    {
      "cell_type": "markdown",
      "source": [
        "||student A|student B|student C|\n",
        "|-|-|-|-|\n",
        "|**test 1**|60|81|99|\n",
        "|**test 2**|85|77|95|"
      ],
      "metadata": {
        "id": "dJq1P10bAwYy"
      }
    },
    {
      "cell_type": "code",
      "source": [
        "a = np.array([[60, 85], [81, 77], [99, 95]])\n",
        "b = np.transpose(a)\n",
        "\n",
        "print(f\"{a}\\n\")\n",
        "print(b)"
      ],
      "metadata": {
        "colab": {
          "base_uri": "https://localhost:8080/"
        },
        "id": "yQoRWMyy4goK",
        "outputId": "60683f53-47c4-46ce-ee07-b6f1456f4279"
      },
      "execution_count": 18,
      "outputs": [
        {
          "output_type": "stream",
          "name": "stdout",
          "text": [
            "[[60 85]\n",
            " [81 77]\n",
            " [99 95]]\n",
            "\n",
            "[[60 81 99]\n",
            " [85 77 95]]\n"
          ]
        }
      ]
    },
    {
      "cell_type": "markdown",
      "source": [
        "### axis"
      ],
      "metadata": {
        "id": "7CKge6OH7eb4"
      }
    },
    {
      "cell_type": "code",
      "source": [
        "print(np.mean(b, axis=0))  # each student's mean score\n",
        "print(np.mean(b, axis=1))  # each test's mean score"
      ],
      "metadata": {
        "colab": {
          "base_uri": "https://localhost:8080/"
        },
        "id": "_sOq6O_K4nRQ",
        "outputId": "70b150ed-e834-4829-9cc7-6df36af6053d"
      },
      "execution_count": 19,
      "outputs": [
        {
          "output_type": "stream",
          "name": "stdout",
          "text": [
            "[72.5 79.  97. ]\n",
            "[80.         85.66666667]\n"
          ]
        }
      ]
    },
    {
      "cell_type": "markdown",
      "source": [
        "## real-world data as numpy array"
      ],
      "metadata": {
        "id": "p-NSlJFV8Gsw"
      }
    },
    {
      "cell_type": "markdown",
      "source": [
        "### image"
      ],
      "metadata": {
        "id": "Y1B79PBm8RGX"
      }
    },
    {
      "cell_type": "code",
      "source": [
        "from PIL import Image\n",
        "\n",
        "img_url = \"https://raw.githubusercontent.com/ynebin/class2023Fall/main/cat.jpeg\"\n",
        "os.system(\"curl \" + img_url + \" > cat.jpeg\")\n",
        "\n",
        "a = Image.open(\"/content/cat.jpeg\")\n",
        "a = np.array(a)\n",
        "\n",
        "print(f\"shape of a: {a.shape}\")\n",
        "print(a)"
      ],
      "metadata": {
        "id": "70dZ5Pzn8TT9",
        "colab": {
          "base_uri": "https://localhost:8080/"
        },
        "outputId": "924656d1-54b6-4cc4-8300-d93d5222b8d3"
      },
      "execution_count": 20,
      "outputs": [
        {
          "output_type": "stream",
          "name": "stdout",
          "text": [
            "shape of a: (4000, 6000, 3)\n",
            "[[[ 23  58  34]\n",
            "  [ 26  61  37]\n",
            "  [ 26  61  37]\n",
            "  ...\n",
            "  [ 47 109  60]\n",
            "  [ 48 110  61]\n",
            "  [ 52 114  65]]\n",
            "\n",
            " [[ 24  59  35]\n",
            "  [ 26  61  37]\n",
            "  [ 26  61  37]\n",
            "  ...\n",
            "  [ 51 113  64]\n",
            "  [ 52 114  65]\n",
            "  [ 56 118  69]]\n",
            "\n",
            " [[ 26  61  37]\n",
            "  [ 27  62  38]\n",
            "  [ 26  61  37]\n",
            "  ...\n",
            "  [ 54 117  70]\n",
            "  [ 54 117  70]\n",
            "  [ 56 119  72]]\n",
            "\n",
            " ...\n",
            "\n",
            " [[ 92 123  55]\n",
            "  [ 91 122  54]\n",
            "  [ 92 123  55]\n",
            "  ...\n",
            "  [ 59  85  37]\n",
            "  [ 62  88  40]\n",
            "  [ 62  88  40]]\n",
            "\n",
            " [[ 90 121  53]\n",
            "  [ 90 121  53]\n",
            "  [ 92 123  55]\n",
            "  ...\n",
            "  [ 63  89  41]\n",
            "  [ 66  92  44]\n",
            "  [ 63  89  41]]\n",
            "\n",
            " [[ 89 120  52]\n",
            "  [ 91 122  54]\n",
            "  [ 94 125  57]\n",
            "  ...\n",
            "  [ 64  90  42]\n",
            "  [ 65  91  43]\n",
            "  [ 58  84  36]]]\n"
          ]
        }
      ]
    },
    {
      "cell_type": "markdown",
      "source": [
        "### audio"
      ],
      "metadata": {
        "id": "Qukvo9byCDic"
      }
    },
    {
      "cell_type": "code",
      "source": [
        "import librosa\n",
        "\n",
        "audio_url = \"https://raw.githubusercontent.com/ynebin/class2023Fall/main/aeiou.wav\"\n",
        "os.system(\"curl \" + audio_url + \" > aeiou.wav\")\n",
        "\n",
        "a, sr = librosa.load(\"aeiou.wav\")\n",
        "\n",
        "print(type(a))\n",
        "print(f\"shape of a: {a.shape}\")\n",
        "print(a)"
      ],
      "metadata": {
        "id": "UX42dcvY8opw",
        "colab": {
          "base_uri": "https://localhost:8080/"
        },
        "outputId": "59e43167-a9de-4e10-aa1c-9442e0eccb93"
      },
      "execution_count": 21,
      "outputs": [
        {
          "output_type": "stream",
          "name": "stdout",
          "text": [
            "<class 'numpy.ndarray'>\n",
            "shape of a: (48600,)\n",
            "[0.00135931 0.0020927  0.00200758 ... 0.0021776  0.00213208 0.00217898]\n"
          ]
        }
      ]
    }
  ]
}