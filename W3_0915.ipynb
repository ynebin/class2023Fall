{
  "nbformat": 4,
  "nbformat_minor": 0,
  "metadata": {
    "colab": {
      "provenance": [],
      "collapsed_sections": [
        "QRfC0aHd_MhJ"
      ],
      "authorship_tag": "ABX9TyM1cMxouVC9cG9Pyea8+H5S",
      "include_colab_link": true
    },
    "kernelspec": {
      "name": "python3",
      "display_name": "Python 3"
    },
    "language_info": {
      "name": "python"
    }
  },
  "cells": [
    {
      "cell_type": "markdown",
      "metadata": {
        "id": "view-in-github",
        "colab_type": "text"
      },
      "source": [
        "<a href=\"https://colab.research.google.com/github/ynebin/class2023Fall/blob/main/W3_0915.ipynb\" target=\"_parent\"><img src=\"https://colab.research.google.com/assets/colab-badge.svg\" alt=\"Open In Colab\"/></a>"
      ]
    },
    {
      "cell_type": "markdown",
      "source": [
        "# Basic"
      ],
      "metadata": {
        "id": "JvQfahrL4KS8"
      }
    },
    {
      "cell_type": "markdown",
      "source": [
        "## print\n",
        "* displays a value (= data) to the console\n",
        "\n",
        "```\n",
        "print(x)\n",
        "```"
      ],
      "metadata": {
        "id": "Ocvj1AMD4QoQ"
      }
    },
    {
      "cell_type": "code",
      "execution_count": 1,
      "metadata": {
        "colab": {
          "base_uri": "https://localhost:8080/"
        },
        "id": "YZVkbBSo4IEP",
        "outputId": "0c6d8ebf-6905-4e95-ed4c-a3593c3799bc"
      },
      "outputs": [
        {
          "output_type": "stream",
          "name": "stdout",
          "text": [
            "Hi!\n"
          ]
        }
      ],
      "source": [
        "# click the play button on the left to run the code\n",
        "\n",
        "print(\"Hi!\")"
      ]
    },
    {
      "cell_type": "markdown",
      "source": [
        "## variable\n",
        "* a named container that holds a value\n",
        "* a reference to a value that is stored in the RAM (= memory)"
      ],
      "metadata": {
        "id": "1CV1ycri411n"
      }
    },
    {
      "cell_type": "code",
      "source": [
        "a = \"Hi!\"  # variable a\n",
        "print(a)"
      ],
      "metadata": {
        "colab": {
          "base_uri": "https://localhost:8080/"
        },
        "id": "z00ozBB25dua",
        "outputId": "c3d245c5-87ee-445b-d867-1722737626b3"
      },
      "execution_count": 2,
      "outputs": [
        {
          "output_type": "stream",
          "name": "stdout",
          "text": [
            "Hi!\n"
          ]
        }
      ]
    },
    {
      "cell_type": "code",
      "source": [
        "# variable reassignment\n",
        "\n",
        "a = \"Bye!\"  # the value of a is changed from \"Hi!\" to \"Bye\"\n",
        "print(a)"
      ],
      "metadata": {
        "colab": {
          "base_uri": "https://localhost:8080/"
        },
        "id": "HYevhTFG5ufC",
        "outputId": "cadc6aa2-3982-4927-da90-660ad11fa862"
      },
      "execution_count": 3,
      "outputs": [
        {
          "output_type": "stream",
          "name": "stdout",
          "text": [
            "Bye!\n"
          ]
        }
      ]
    },
    {
      "cell_type": "markdown",
      "source": [
        "## del\n",
        "* deletes a variable or element\n",
        "\n",
        "```\n",
        "del x\n",
        "```"
      ],
      "metadata": {
        "id": "eLN-Q7Cg6dm9"
      }
    },
    {
      "cell_type": "code",
      "source": [
        "del a  # a is deleted\n",
        "print(a)  # this raises an error since there is no a"
      ],
      "metadata": {
        "id": "-tvffT9W6byO",
        "colab": {
          "base_uri": "https://localhost:8080/",
          "height": 198
        },
        "outputId": "530e8f10-7c72-4e09-e4a3-1de3df05cdf5"
      },
      "execution_count": 4,
      "outputs": [
        {
          "output_type": "error",
          "ename": "NameError",
          "evalue": "ignored",
          "traceback": [
            "\u001b[0;31m---------------------------------------------------------------------------\u001b[0m",
            "\u001b[0;31mNameError\u001b[0m                                 Traceback (most recent call last)",
            "\u001b[0;32m<ipython-input-4-049f03a6405a>\u001b[0m in \u001b[0;36m<cell line: 2>\u001b[0;34m()\u001b[0m\n\u001b[1;32m      1\u001b[0m \u001b[0;32mdel\u001b[0m \u001b[0ma\u001b[0m  \u001b[0;31m# a is deleted\u001b[0m\u001b[0;34m\u001b[0m\u001b[0;34m\u001b[0m\u001b[0m\n\u001b[0;32m----> 2\u001b[0;31m \u001b[0mprint\u001b[0m\u001b[0;34m(\u001b[0m\u001b[0ma\u001b[0m\u001b[0;34m)\u001b[0m  \u001b[0;31m# this raises an error since there is no a\u001b[0m\u001b[0;34m\u001b[0m\u001b[0;34m\u001b[0m\u001b[0m\n\u001b[0m",
            "\u001b[0;31mNameError\u001b[0m: name 'a' is not defined"
          ]
        }
      ]
    },
    {
      "cell_type": "markdown",
      "source": [
        "## type\n",
        "* data in Python have specific types"
      ],
      "metadata": {
        "id": "WSRmWNLj5lkV"
      }
    },
    {
      "cell_type": "code",
      "source": [
        "a = 1\n",
        "b = \"Hi!\"\n",
        "c = [1, 2, 3]\n",
        "d = (1, 2, 3)\n",
        "e = {\"a\": 1, \"b\": 2, \"c\": 3}"
      ],
      "metadata": {
        "id": "ggI5KK745rt_"
      },
      "execution_count": 5,
      "outputs": []
    },
    {
      "cell_type": "markdown",
      "source": [
        "* returns the data type\n",
        "\n",
        "```\n",
        "type(x)\n",
        "```"
      ],
      "metadata": {
        "id": "kd3Qit2y6CdR"
      }
    },
    {
      "cell_type": "code",
      "source": [
        "print(type(a))\n",
        "print(type(b))\n",
        "print(type(c))\n",
        "print(type(d))\n",
        "print(type(e))"
      ],
      "metadata": {
        "colab": {
          "base_uri": "https://localhost:8080/"
        },
        "id": "lwINkEHK6QPx",
        "outputId": "7e3f6bed-f516-4423-8637-0c9724f5b324"
      },
      "execution_count": 6,
      "outputs": [
        {
          "output_type": "stream",
          "name": "stdout",
          "text": [
            "<class 'int'>\n",
            "<class 'str'>\n",
            "<class 'list'>\n",
            "<class 'tuple'>\n",
            "<class 'dict'>\n"
          ]
        }
      ]
    },
    {
      "cell_type": "markdown",
      "source": [
        "# Data type: Number"
      ],
      "metadata": {
        "id": "LONx1R4W6t58"
      }
    },
    {
      "cell_type": "code",
      "source": [
        "# integer\n",
        "\n",
        "a = 1\n",
        "b = 0  # this is an int\n",
        "c = -1"
      ],
      "metadata": {
        "id": "yO0nDq1R6x_K"
      },
      "execution_count": 7,
      "outputs": []
    },
    {
      "cell_type": "code",
      "source": [
        "# floating-point number\n",
        "\n",
        "a = 3.14159\n",
        "b = 0.0  # this is a float\n",
        "c = -3.14"
      ],
      "metadata": {
        "id": "CIE7y-iB7BF9"
      },
      "execution_count": 8,
      "outputs": []
    },
    {
      "cell_type": "markdown",
      "source": [
        "## arithmetic operator\n",
        "* operator\n",
        "  * a symbol or keyword that performs specific operations\n",
        "  * it is essentially a function\n",
        "\n",
        "<br/>\n",
        "\n",
        "* `+` addition\n",
        "* `-` deletion\n",
        "* `*` multiplication\n",
        "* `/` division"
      ],
      "metadata": {
        "id": "swYyGBc87FTd"
      }
    },
    {
      "cell_type": "code",
      "source": [
        "a = 5\n",
        "b = 3\n",
        "\n",
        "print(a + b)\n",
        "print(a - b)\n",
        "print(a * b)\n",
        "print(a / b)  # division returns a float"
      ],
      "metadata": {
        "colab": {
          "base_uri": "https://localhost:8080/"
        },
        "id": "b-gSC_au8xEn",
        "outputId": "75110a4c-5946-446b-c6d5-8ea4f1669f09"
      },
      "execution_count": 9,
      "outputs": [
        {
          "output_type": "stream",
          "name": "stdout",
          "text": [
            "8\n",
            "2\n",
            "15\n",
            "1.6666666666666667\n"
          ]
        }
      ]
    },
    {
      "cell_type": "markdown",
      "source": [
        "* `//` quotient\n",
        "* `%` modulus"
      ],
      "metadata": {
        "id": "Ri0q2kd68_h0"
      }
    },
    {
      "cell_type": "code",
      "source": [
        "print(a // b)\n",
        "print(a % b)"
      ],
      "metadata": {
        "colab": {
          "base_uri": "https://localhost:8080/"
        },
        "id": "BZOponWv9oii",
        "outputId": "e259ee39-5573-4f8b-963b-8e7d0e9af6b3"
      },
      "execution_count": 10,
      "outputs": [
        {
          "output_type": "stream",
          "name": "stdout",
          "text": [
            "1\n",
            "2\n"
          ]
        }
      ]
    },
    {
      "cell_type": "markdown",
      "source": [
        "* `**` exponentiation"
      ],
      "metadata": {
        "id": "Td1J3Sjb9rGW"
      }
    },
    {
      "cell_type": "code",
      "source": [
        "print(a ** b)  # 5 * 5 * 5"
      ],
      "metadata": {
        "colab": {
          "base_uri": "https://localhost:8080/"
        },
        "id": "NotXZJN19v_c",
        "outputId": "a3179314-08eb-4e7b-8c5d-b37d86b84639"
      },
      "execution_count": 11,
      "outputs": [
        {
          "output_type": "stream",
          "name": "stdout",
          "text": [
            "125\n"
          ]
        }
      ]
    },
    {
      "cell_type": "markdown",
      "source": [
        "## comparison operator\n",
        "* compares two values\n",
        "* returns a boolean (`True` or `False`)\n",
        "\n",
        "<br/>\n",
        "\n",
        "* `>` greater than\n",
        "* `<` less than\n",
        "* `>=` greater than or equal to\n",
        "* `<=` less than or equal to\n",
        "* `==` equal to\n",
        "* `!=` not equal to"
      ],
      "metadata": {
        "id": "1HAF8a9t94sp"
      }
    },
    {
      "cell_type": "code",
      "source": [
        "print(a > b)   # 5 > 3\n",
        "print(a < b)   # 5 < 3\n",
        "print(a >= b)  # 5 >= 3\n",
        "print(a <= b)  # 5 <= 3\n",
        "print(a == b)  # 5 == 3\n",
        "print(a != b)  # 5 != 3"
      ],
      "metadata": {
        "colab": {
          "base_uri": "https://localhost:8080/"
        },
        "id": "CLepVAwb-iyU",
        "outputId": "3572d335-c9d7-4ec9-cd78-e56acad70b00"
      },
      "execution_count": 12,
      "outputs": [
        {
          "output_type": "stream",
          "name": "stdout",
          "text": [
            "True\n",
            "False\n",
            "True\n",
            "False\n",
            "False\n",
            "True\n"
          ]
        }
      ]
    },
    {
      "cell_type": "markdown",
      "source": [
        "# Data type: Sequence\n",
        "* an ordered collection of elements\n",
        "* can access elements by their position (= index)"
      ],
      "metadata": {
        "id": "uSUJMPpp-6TM"
      }
    },
    {
      "cell_type": "markdown",
      "source": [
        "## string\n",
        "* a sequence of characters\n",
        "* used to represent text"
      ],
      "metadata": {
        "id": "QRfC0aHd_MhJ"
      }
    },
    {
      "cell_type": "code",
      "source": [
        "a = \"Hi!\"\n",
        "b = 'Hi!'  # same as a\n",
        "c = \"\"  # empty string"
      ],
      "metadata": {
        "id": "BYn2UAGt-9wf"
      },
      "execution_count": 13,
      "outputs": []
    },
    {
      "cell_type": "markdown",
      "source": [
        "### string operators\n",
        "\n",
        "* `+` concatenate"
      ],
      "metadata": {
        "id": "VQ7j0tEj_ve_"
      }
    },
    {
      "cell_type": "code",
      "source": [
        "a = \"py\"\n",
        "b = \"thon\"\n",
        "\n",
        "print(a + b)"
      ],
      "metadata": {
        "colab": {
          "base_uri": "https://localhost:8080/"
        },
        "id": "22NW94xP_yjI",
        "outputId": "58951be9-bfe6-47aa-fb76-fdbc8b8f2373"
      },
      "execution_count": 14,
      "outputs": [
        {
          "output_type": "stream",
          "name": "stdout",
          "text": [
            "python\n"
          ]
        }
      ]
    },
    {
      "cell_type": "markdown",
      "source": [
        "* `*` repeat"
      ],
      "metadata": {
        "id": "4r4ZBtpr_11n"
      }
    },
    {
      "cell_type": "code",
      "source": [
        "print(a * 3)  # a is repeated 3 times"
      ],
      "metadata": {
        "colab": {
          "base_uri": "https://localhost:8080/"
        },
        "id": "35bdgOKl_1Om",
        "outputId": "c601e5aa-50fe-499f-8a23-08a2921a340f"
      },
      "execution_count": 15,
      "outputs": [
        {
          "output_type": "stream",
          "name": "stdout",
          "text": [
            "pypypy\n"
          ]
        }
      ]
    },
    {
      "cell_type": "markdown",
      "source": [
        "### comparison operators\n",
        "* `==` equal to\n",
        "* `!=` not equal to"
      ],
      "metadata": {
        "id": "BhPzLpX_ATsj"
      }
    },
    {
      "cell_type": "code",
      "source": [
        "a = \"Hi!\"\n",
        "b = 'Hi!'\n",
        "\n",
        "print(a == b)  # each character should match\n",
        "print(a != b)"
      ],
      "metadata": {
        "colab": {
          "base_uri": "https://localhost:8080/"
        },
        "id": "Pbk9Dbo1AayK",
        "outputId": "64d0f793-b6f4-49e8-e448-b5727c074031"
      },
      "execution_count": 16,
      "outputs": [
        {
          "output_type": "stream",
          "name": "stdout",
          "text": [
            "True\n",
            "False\n"
          ]
        }
      ]
    },
    {
      "cell_type": "markdown",
      "source": [
        "### len\n",
        "* returns the number of elements (= characters)\n",
        "\n",
        "```\n",
        "len(x)\n",
        "```"
      ],
      "metadata": {
        "id": "XarMTBawA0aX"
      }
    },
    {
      "cell_type": "code",
      "source": [
        "print(len(a))  # a has 3 characters"
      ],
      "metadata": {
        "colab": {
          "base_uri": "https://localhost:8080/"
        },
        "id": "rwipInRyBA_a",
        "outputId": "581ab7ba-8428-434f-d95a-65c646693e5f"
      },
      "execution_count": 17,
      "outputs": [
        {
          "output_type": "stream",
          "name": "stdout",
          "text": [
            "3\n"
          ]
        }
      ]
    },
    {
      "cell_type": "markdown",
      "source": [
        "### .replace\n",
        "* method\n",
        "  * a function that is associated with an object\n",
        "  * performs actions related to that object\n",
        "\n",
        "<br />\n",
        "\n",
        "* replaces a substring `a` to `b` in `x`\n",
        "\n",
        "```\n",
        "x.replace(\"a\", \"b\")\n",
        "```\n"
      ],
      "metadata": {
        "id": "WAXMuoerBGiE"
      }
    },
    {
      "cell_type": "code",
      "source": [
        "a = \"Hello world!\"\n",
        "\n",
        "a = a.replace(\"world\", \"python\")\n",
        "print(a)"
      ],
      "metadata": {
        "colab": {
          "base_uri": "https://localhost:8080/"
        },
        "id": "wiZJE8ATCEvf",
        "outputId": "1fabcec9-8f1f-402c-a32a-269afe5d0c74"
      },
      "execution_count": 18,
      "outputs": [
        {
          "output_type": "stream",
          "name": "stdout",
          "text": [
            "Hello python!\n"
          ]
        }
      ]
    },
    {
      "cell_type": "markdown",
      "source": [
        "### indexing\n",
        "* each element's position in a sequence is specified by a number (= index)\n",
        "* an index starts from 0\n",
        "\n",
        "<br />\n",
        "\n",
        "|0|1|2|3|4|5|\n",
        "|-|-|-|-|-|-|\n",
        "|p|y|t|h|o|n|\n",
        "\n",
        "<br />\n",
        "\n",
        "* accesses the `i`th element\n",
        "\n",
        "```\n",
        "x[i]\n",
        "```"
      ],
      "metadata": {
        "id": "-ITNQ7wYCNMZ"
      }
    },
    {
      "cell_type": "code",
      "source": [
        "a = \"python\"\n",
        "\n",
        "print(a[0])\n",
        "print(a[1])\n",
        "print(a[2])\n",
        "print(a[3])\n",
        "print(a[4])\n",
        "print(a[5])"
      ],
      "metadata": {
        "colab": {
          "base_uri": "https://localhost:8080/"
        },
        "id": "m2mZqXMcCHZG",
        "outputId": "5a4d16f4-0e13-4972-f832-9fa744f4aa80"
      },
      "execution_count": 19,
      "outputs": [
        {
          "output_type": "stream",
          "name": "stdout",
          "text": [
            "p\n",
            "y\n",
            "t\n",
            "h\n",
            "o\n",
            "n\n"
          ]
        }
      ]
    },
    {
      "cell_type": "markdown",
      "source": [
        "* negative indexing\n",
        "\n",
        "<br />\n",
        "\n",
        "|-6|-5|-4|-3|-2|-1|\n",
        "|-|-|-|-|-|-|\n",
        "|p|y|t|h|o|n|"
      ],
      "metadata": {
        "id": "C0Qkp5UHDEUM"
      }
    },
    {
      "cell_type": "code",
      "source": [
        "print(a[-6])\n",
        "print(a[-5])\n",
        "print(a[-4])\n",
        "print(a[-3])\n",
        "print(a[-2])\n",
        "print(a[-1])"
      ],
      "metadata": {
        "colab": {
          "base_uri": "https://localhost:8080/"
        },
        "id": "CGXbsaNEC-9N",
        "outputId": "29fa3974-3f84-42d0-98ef-2c64db624aa8"
      },
      "execution_count": 20,
      "outputs": [
        {
          "output_type": "stream",
          "name": "stdout",
          "text": [
            "p\n",
            "y\n",
            "t\n",
            "h\n",
            "o\n",
            "n\n"
          ]
        }
      ]
    },
    {
      "cell_type": "markdown",
      "source": [
        "### slicing\n",
        "* accesses multiple elements\n",
        "* from `i`th to `j-1`th\n",
        "\n",
        "```\n",
        "x[i:j]\n",
        "```\n",
        "\n",
        "<br />\n",
        "\n",
        "|0|1|2|3|4|5|\n",
        "|-|-|-|-|-|-|\n",
        "|p|y|t|h|o|n|"
      ],
      "metadata": {
        "id": "CIfYBgsfDctk"
      }
    },
    {
      "cell_type": "code",
      "source": [
        "print(a[2:4])  # 2nd ~ 3rd"
      ],
      "metadata": {
        "colab": {
          "base_uri": "https://localhost:8080/"
        },
        "id": "bA-CgAUJDvlW",
        "outputId": "82816c8b-6e3b-415d-90a7-3d2453145f76"
      },
      "execution_count": 21,
      "outputs": [
        {
          "output_type": "stream",
          "name": "stdout",
          "text": [
            "th\n"
          ]
        }
      ]
    },
    {
      "cell_type": "code",
      "source": [
        "# when starting the slice from the beginning,\n",
        "# the starting index is omitted\n",
        "\n",
        "print(a[:2])  # 0th ~ 1st"
      ],
      "metadata": {
        "colab": {
          "base_uri": "https://localhost:8080/"
        },
        "id": "yziCI_1gEMho",
        "outputId": "50ada20c-ddf7-43f3-a15e-0d8c56e19759"
      },
      "execution_count": 22,
      "outputs": [
        {
          "output_type": "stream",
          "name": "stdout",
          "text": [
            "py\n"
          ]
        }
      ]
    },
    {
      "cell_type": "code",
      "source": [
        "# when the slice is from the specified position\n",
        "# to the end of the sequence,\n",
        "# the ending index is omitted\n",
        "\n",
        "print(a[-2:])  # same as a[4:], 4th ~ last"
      ],
      "metadata": {
        "colab": {
          "base_uri": "https://localhost:8080/"
        },
        "id": "Z2fradDmEjXT",
        "outputId": "477d5bd7-5893-4e8b-dcb5-26ec811df019"
      },
      "execution_count": 23,
      "outputs": [
        {
          "output_type": "stream",
          "name": "stdout",
          "text": [
            "on\n"
          ]
        }
      ]
    },
    {
      "cell_type": "markdown",
      "source": [
        "## list\n",
        "* a sequence of elements of any data type"
      ],
      "metadata": {
        "id": "ZUcRYoZoFNmd"
      }
    },
    {
      "cell_type": "code",
      "source": [
        "a = [1, 2, 3]\n",
        "b = [\"red\", \"green\", \"blue\"]\n",
        "c = [10, \"Hi!\", False, [1, 2]]\n",
        "d = [] # empty list"
      ],
      "metadata": {
        "id": "ehB7kAKpFXft"
      },
      "execution_count": 24,
      "outputs": []
    },
    {
      "cell_type": "markdown",
      "source": [
        "### list operators\n",
        "* `+` concatenate"
      ],
      "metadata": {
        "id": "jYlBS1hvFr8r"
      }
    },
    {
      "cell_type": "code",
      "source": [
        "a = [1, 2]\n",
        "b = [3, 4]\n",
        "\n",
        "print(a + b)"
      ],
      "metadata": {
        "colab": {
          "base_uri": "https://localhost:8080/"
        },
        "id": "RP9VajenFxjE",
        "outputId": "f502d0df-3024-4969-fc52-5284a85ab074"
      },
      "execution_count": 25,
      "outputs": [
        {
          "output_type": "stream",
          "name": "stdout",
          "text": [
            "[1, 2, 3, 4]\n"
          ]
        }
      ]
    },
    {
      "cell_type": "markdown",
      "source": [
        "* `*` repeat"
      ],
      "metadata": {
        "id": "OcbWSOakGKA8"
      }
    },
    {
      "cell_type": "code",
      "source": [
        "print(a * 3)"
      ],
      "metadata": {
        "colab": {
          "base_uri": "https://localhost:8080/"
        },
        "id": "hu36hNFyGLqZ",
        "outputId": "8e7bce4d-e8bd-443a-a3a7-5a2fdc573577"
      },
      "execution_count": 26,
      "outputs": [
        {
          "output_type": "stream",
          "name": "stdout",
          "text": [
            "[1, 2, 1, 2, 1, 2]\n"
          ]
        }
      ]
    },
    {
      "cell_type": "markdown",
      "source": [
        "### len\n",
        "* returns the number of elements\n",
        "\n",
        "```\n",
        "len(x)\n",
        "```"
      ],
      "metadata": {
        "id": "A-0E6oN7GZZn"
      }
    },
    {
      "cell_type": "code",
      "source": [
        "print(len(a))"
      ],
      "metadata": {
        "colab": {
          "base_uri": "https://localhost:8080/"
        },
        "id": "S54Bd2rfGcRg",
        "outputId": "709e034c-acc5-4517-9813-869d5bbfa43d"
      },
      "execution_count": 27,
      "outputs": [
        {
          "output_type": "stream",
          "name": "stdout",
          "text": [
            "2\n"
          ]
        }
      ]
    },
    {
      "cell_type": "markdown",
      "source": [
        "### indexing\n",
        "* accesses the `i`th element\n",
        "\n",
        "```\n",
        "x[i]\n",
        "```"
      ],
      "metadata": {
        "id": "DsSiYijdGnbO"
      }
    },
    {
      "cell_type": "code",
      "source": [
        "a = [1, 2, 3, -1]\n",
        "\n",
        "print(a[0])\n",
        "print(a[1])\n",
        "print(a[2])\n",
        "print(a[3])"
      ],
      "metadata": {
        "colab": {
          "base_uri": "https://localhost:8080/"
        },
        "id": "uW6GTFJzGqSc",
        "outputId": "5dcb5147-e54a-487b-9e09-ce1ed248be4e"
      },
      "execution_count": 28,
      "outputs": [
        {
          "output_type": "stream",
          "name": "stdout",
          "text": [
            "1\n",
            "2\n",
            "3\n",
            "-1\n"
          ]
        }
      ]
    },
    {
      "cell_type": "code",
      "source": [
        "# negative indexing\n",
        "\n",
        "print(a[-4])\n",
        "print(a[-3])\n",
        "print(a[-2])\n",
        "print(a[-1])"
      ],
      "metadata": {
        "colab": {
          "base_uri": "https://localhost:8080/"
        },
        "id": "hVt_oJwHGwyz",
        "outputId": "63d2b94a-e877-43b9-fb21-d0ebcfcc4afc"
      },
      "execution_count": 29,
      "outputs": [
        {
          "output_type": "stream",
          "name": "stdout",
          "text": [
            "1\n",
            "2\n",
            "3\n",
            "-1\n"
          ]
        }
      ]
    },
    {
      "cell_type": "markdown",
      "source": [
        "### slicing\n",
        "* accesses multiple elements\n",
        "* from `i`th to `j-1`th\n",
        "\n",
        "```\n",
        "x[i:j]\n",
        "```"
      ],
      "metadata": {
        "id": "AzjLTAJVG4RF"
      }
    },
    {
      "cell_type": "code",
      "source": [
        "print(a[:2])\n",
        "print(a[1:3])\n",
        "print(a[-2:])  # same as a[2:]"
      ],
      "metadata": {
        "colab": {
          "base_uri": "https://localhost:8080/"
        },
        "id": "tq1gH1bkG62J",
        "outputId": "5f0deb91-3e23-4422-8285-959a338dd1ab"
      },
      "execution_count": 30,
      "outputs": [
        {
          "output_type": "stream",
          "name": "stdout",
          "text": [
            "[1, 2]\n",
            "[2, 3]\n",
            "[3, -1]\n"
          ]
        }
      ]
    },
    {
      "cell_type": "markdown",
      "source": [
        "### modifying\n",
        "* changes the `i`th value to `a`\n",
        "\n",
        "```\n",
        "x[i] = a\n",
        "```"
      ],
      "metadata": {
        "id": "meXMkR4hG2je"
      }
    },
    {
      "cell_type": "code",
      "source": [
        "a[-1] = 4  # the last element is changed from -1 to 4\n",
        "print(a)"
      ],
      "metadata": {
        "colab": {
          "base_uri": "https://localhost:8080/"
        },
        "id": "ccDXxDPnHknM",
        "outputId": "bc101558-f3d1-4fd4-9e99-dced4e171371"
      },
      "execution_count": 31,
      "outputs": [
        {
          "output_type": "stream",
          "name": "stdout",
          "text": [
            "[1, 2, 3, 4]\n"
          ]
        }
      ]
    },
    {
      "cell_type": "markdown",
      "source": [
        "### .append\n",
        "* adds a single element to the end of a list\n",
        "\n",
        "```\n",
        "x.append(a)\n",
        "```"
      ],
      "metadata": {
        "id": "2aEY5ZvdHxbd"
      }
    },
    {
      "cell_type": "code",
      "source": [
        "a.append(5)  # no explicit assignment is needed!\n",
        "print(a)"
      ],
      "metadata": {
        "colab": {
          "base_uri": "https://localhost:8080/"
        },
        "id": "RTCk3QiPH1gZ",
        "outputId": "6877546c-c8d9-4869-f19b-4e7306b5faad"
      },
      "execution_count": 32,
      "outputs": [
        {
          "output_type": "stream",
          "name": "stdout",
          "text": [
            "[1, 2, 3, 4, 5]\n"
          ]
        }
      ]
    },
    {
      "cell_type": "code",
      "source": [
        "# what if you want to add multiple elements?\n",
        "\n",
        "a.append([6, 7])\n",
        "print(a)  # common mistake: a list as a single element is added!"
      ],
      "metadata": {
        "colab": {
          "base_uri": "https://localhost:8080/"
        },
        "id": "12gmbCPsIFLX",
        "outputId": "776c4c79-e531-4c07-bc3a-2d58e244cc94"
      },
      "execution_count": 33,
      "outputs": [
        {
          "output_type": "stream",
          "name": "stdout",
          "text": [
            "[1, 2, 3, 4, 5, [6, 7]]\n"
          ]
        }
      ]
    },
    {
      "cell_type": "markdown",
      "source": [
        "### .pop\n",
        "* deletes and returns the last element\n",
        "\n",
        "```\n",
        "y = x.pop()\n",
        "```"
      ],
      "metadata": {
        "id": "-2qiqwgNISYp"
      }
    },
    {
      "cell_type": "code",
      "source": [
        "b = a.pop()  # b is assigned with the last element of a\n",
        "\n",
        "print(a)\n",
        "print(b)  # the last element is a list [6, 7]"
      ],
      "metadata": {
        "colab": {
          "base_uri": "https://localhost:8080/"
        },
        "id": "0nR-aUBfIf_r",
        "outputId": "f067ca64-0370-4ec4-8a98-bcd470a4a9c4"
      },
      "execution_count": 34,
      "outputs": [
        {
          "output_type": "stream",
          "name": "stdout",
          "text": [
            "[1, 2, 3, 4, 5]\n",
            "[6, 7]\n"
          ]
        }
      ]
    },
    {
      "cell_type": "markdown",
      "source": [
        "### .extend\n",
        "* adds multiple elements to the end of a list"
      ],
      "metadata": {
        "id": "VCJ4BrzBIDlg"
      }
    },
    {
      "cell_type": "code",
      "source": [
        "a.extend([6, 7])  # same as a = a + [6, 7]\n",
        "print(a)          # multiple elements are added as expected this time!"
      ],
      "metadata": {
        "colab": {
          "base_uri": "https://localhost:8080/"
        },
        "id": "n-YZiFa1I8ro",
        "outputId": "be0827d5-afd8-417c-bf54-dc9d6e6c5aaf"
      },
      "execution_count": 35,
      "outputs": [
        {
          "output_type": "stream",
          "name": "stdout",
          "text": [
            "[1, 2, 3, 4, 5, 6, 7]\n"
          ]
        }
      ]
    },
    {
      "cell_type": "markdown",
      "source": [
        "## tuple\n",
        "* a list where each element cannot be modified, deleted, or added"
      ],
      "metadata": {
        "id": "Q4uSHtkdJZKT"
      }
    },
    {
      "cell_type": "code",
      "source": [
        "# same as a list most of the time\n",
        "\n",
        "a = (1, 2, 3, -1)\n",
        "\n",
        "print(len(a))  # calculating length\n",
        "print(a[0])    # indexing\n",
        "print(a[1:3])  # slicing"
      ],
      "metadata": {
        "colab": {
          "base_uri": "https://localhost:8080/"
        },
        "id": "ddMaxV5NJjyU",
        "outputId": "20668805-b15a-4db2-ef6d-8df89aaee0d6"
      },
      "execution_count": 36,
      "outputs": [
        {
          "output_type": "stream",
          "name": "stdout",
          "text": [
            "4\n",
            "1\n",
            "(2, 3)\n"
          ]
        }
      ]
    },
    {
      "cell_type": "code",
      "source": [
        "# not allowed: returns an error\n",
        "\n",
        "a[-1] = 4         # modifying\n",
        "a.append(5)       # appending\n",
        "a.extend([6, 7])  # extending\n",
        "a.pop()           # removing"
      ],
      "metadata": {
        "colab": {
          "base_uri": "https://localhost:8080/",
          "height": 251
        },
        "id": "5WJUA_80J5o3",
        "outputId": "87229858-3a18-4828-e0d6-572c77df71e9"
      },
      "execution_count": 37,
      "outputs": [
        {
          "output_type": "error",
          "ename": "TypeError",
          "evalue": "ignored",
          "traceback": [
            "\u001b[0;31m---------------------------------------------------------------------------\u001b[0m",
            "\u001b[0;31mTypeError\u001b[0m                                 Traceback (most recent call last)",
            "\u001b[0;32m<ipython-input-37-830d106e809f>\u001b[0m in \u001b[0;36m<cell line: 3>\u001b[0;34m()\u001b[0m\n\u001b[1;32m      1\u001b[0m \u001b[0;31m# not allowed: returns an error\u001b[0m\u001b[0;34m\u001b[0m\u001b[0;34m\u001b[0m\u001b[0m\n\u001b[1;32m      2\u001b[0m \u001b[0;34m\u001b[0m\u001b[0m\n\u001b[0;32m----> 3\u001b[0;31m \u001b[0ma\u001b[0m\u001b[0;34m[\u001b[0m\u001b[0;34m-\u001b[0m\u001b[0;36m1\u001b[0m\u001b[0;34m]\u001b[0m \u001b[0;34m=\u001b[0m \u001b[0;36m4\u001b[0m         \u001b[0;31m# modifying\u001b[0m\u001b[0;34m\u001b[0m\u001b[0;34m\u001b[0m\u001b[0m\n\u001b[0m\u001b[1;32m      4\u001b[0m \u001b[0ma\u001b[0m\u001b[0;34m.\u001b[0m\u001b[0mappend\u001b[0m\u001b[0;34m(\u001b[0m\u001b[0;36m5\u001b[0m\u001b[0;34m)\u001b[0m       \u001b[0;31m# appending\u001b[0m\u001b[0;34m\u001b[0m\u001b[0;34m\u001b[0m\u001b[0m\n\u001b[1;32m      5\u001b[0m \u001b[0ma\u001b[0m\u001b[0;34m.\u001b[0m\u001b[0mextend\u001b[0m\u001b[0;34m(\u001b[0m\u001b[0;34m[\u001b[0m\u001b[0;36m6\u001b[0m\u001b[0;34m,\u001b[0m \u001b[0;36m7\u001b[0m\u001b[0;34m]\u001b[0m\u001b[0;34m)\u001b[0m  \u001b[0;31m# extending\u001b[0m\u001b[0;34m\u001b[0m\u001b[0;34m\u001b[0m\u001b[0m\n",
            "\u001b[0;31mTypeError\u001b[0m: 'tuple' object does not support item assignment"
          ]
        }
      ]
    },
    {
      "cell_type": "markdown",
      "source": [
        "# Data type: Mapping\n",
        "* a collection of key-value pairs\n",
        "* can access elements by their associated keys"
      ],
      "metadata": {
        "id": "f7zrljNpKXqq"
      }
    },
    {
      "cell_type": "markdown",
      "source": [
        "## dictionary"
      ],
      "metadata": {
        "id": "swbSisAgKo7Z"
      }
    },
    {
      "cell_type": "code",
      "source": [
        "# keys: \"name\", \"age\", \"city\"\n",
        "# values: \"Alice\", 23, \"Seoul\"\n",
        "\n",
        "a = {\"name\": \"Alice\", \"age\": 23, \"city\": \"Seoul\"}"
      ],
      "metadata": {
        "id": "lldKM-teKrWC"
      },
      "execution_count": 38,
      "outputs": []
    },
    {
      "cell_type": "markdown",
      "source": [
        "### accessing\n",
        "* accesses the value associated with key `a`\n",
        "\n",
        "```\n",
        "x[a]\n",
        "```"
      ],
      "metadata": {
        "id": "T7lWu4IzLPO0"
      }
    },
    {
      "cell_type": "code",
      "source": [
        "print(a[\"name\"])\n",
        "print(a[\"age\"])\n",
        "print(a[\"city\"])"
      ],
      "metadata": {
        "id": "pNeRXwUeK7sQ",
        "colab": {
          "base_uri": "https://localhost:8080/"
        },
        "outputId": "beaca65a-769c-4d84-88fa-b19603752ce0"
      },
      "execution_count": 39,
      "outputs": [
        {
          "output_type": "stream",
          "name": "stdout",
          "text": [
            "Alice\n",
            "23\n",
            "Seoul\n"
          ]
        }
      ]
    },
    {
      "cell_type": "markdown",
      "source": [
        "### modifying\n",
        "* changes the value to `b`\n",
        "\n",
        "```\n",
        "x[a] = b\n",
        "```"
      ],
      "metadata": {
        "id": "b4ifuBrBL_1I"
      }
    },
    {
      "cell_type": "code",
      "source": [
        "a[\"name\"] = \"John\"  # the value is changed from \"Alice\" to \"John\"\n",
        "print(a)"
      ],
      "metadata": {
        "id": "QMb13PkSMK5m",
        "colab": {
          "base_uri": "https://localhost:8080/"
        },
        "outputId": "75c4c57c-c6f0-4de7-944c-09339bc9bad9"
      },
      "execution_count": 40,
      "outputs": [
        {
          "output_type": "stream",
          "name": "stdout",
          "text": [
            "{'name': 'John', 'age': 23, 'city': 'Seoul'}\n"
          ]
        }
      ]
    },
    {
      "cell_type": "markdown",
      "source": [
        "### deleting\n",
        "* deletes a key-value pair using `del`\n",
        "\n",
        "```\n",
        "del x[a]\n",
        "```"
      ],
      "metadata": {
        "id": "ax9EkDLsLczn"
      }
    },
    {
      "cell_type": "code",
      "source": [
        "del a[\"city\"]  # \"city\": \"Seoul\" is deleted\n",
        "print(a)"
      ],
      "metadata": {
        "id": "wiaJMtGkKxIn",
        "colab": {
          "base_uri": "https://localhost:8080/"
        },
        "outputId": "1ed17b8e-f2a0-4c5a-a4e3-c89da5173ee6"
      },
      "execution_count": 41,
      "outputs": [
        {
          "output_type": "stream",
          "name": "stdout",
          "text": [
            "{'name': 'John', 'age': 23}\n"
          ]
        }
      ]
    },
    {
      "cell_type": "markdown",
      "source": [
        "### adding\n",
        "* adds a new key-value pair\n",
        "\n",
        "```\n",
        "x[a] = b\n",
        "```"
      ],
      "metadata": {
        "id": "0af43OwBL5Z1"
      }
    },
    {
      "cell_type": "code",
      "source": [
        "a[\"is_student\"] = True  # \"is_student\": True is added\n",
        "print(a)"
      ],
      "metadata": {
        "id": "PTMLrIm5MW_6",
        "colab": {
          "base_uri": "https://localhost:8080/"
        },
        "outputId": "07fe35d4-e854-4939-809f-4b8168aba421"
      },
      "execution_count": 42,
      "outputs": [
        {
          "output_type": "stream",
          "name": "stdout",
          "text": [
            "{'name': 'John', 'age': 23, 'is_student': True}\n"
          ]
        }
      ]
    },
    {
      "cell_type": "markdown",
      "source": [
        "# Data type: Boolean"
      ],
      "metadata": {
        "id": "YU-IijgAMkR1"
      }
    },
    {
      "cell_type": "code",
      "source": [
        "a = True\n",
        "b = False"
      ],
      "metadata": {
        "id": "DTAy1CHuMpoG"
      },
      "execution_count": 43,
      "outputs": []
    },
    {
      "cell_type": "markdown",
      "source": [
        "## comparison operation\n",
        "* boolean is returned as an output of comparison operations"
      ],
      "metadata": {
        "id": "dd610HyXM1ck"
      }
    },
    {
      "cell_type": "code",
      "source": [
        "print(5 > 3)                # True\n",
        "print(\"Hi!\" == \"Bye!\")      # False\n",
        "print([1, 2, 3] != [1, 2])  # True"
      ],
      "metadata": {
        "id": "P8T1NnK5Mr1P",
        "colab": {
          "base_uri": "https://localhost:8080/"
        },
        "outputId": "f418b400-82dd-4cc1-bdcf-52fa15aee2cf"
      },
      "execution_count": 44,
      "outputs": [
        {
          "output_type": "stream",
          "name": "stdout",
          "text": [
            "True\n",
            "False\n",
            "True\n"
          ]
        }
      ]
    },
    {
      "cell_type": "markdown",
      "source": [
        "## logical operators\n",
        "* `and` returns `True` only when **both** are `True`\n",
        "* `or` returns `True` when **at least one** is `True`\n",
        "* `not` returns the opposite value"
      ],
      "metadata": {
        "id": "j3YaX84JNTpI"
      }
    },
    {
      "cell_type": "code",
      "source": [
        "print(a and b)  # returns False since b is False\n",
        "print(a or b)   # returns True since a is True\n",
        "print(not a)    # returns False since a is True\n",
        "print(not b)    # returns True since b is False"
      ],
      "metadata": {
        "id": "oeut9qk9NpQo",
        "colab": {
          "base_uri": "https://localhost:8080/"
        },
        "outputId": "9d3caa44-84c2-45a7-8a95-bdfd09c8bd35"
      },
      "execution_count": 45,
      "outputs": [
        {
          "output_type": "stream",
          "name": "stdout",
          "text": [
            "False\n",
            "True\n",
            "False\n",
            "True\n"
          ]
        }
      ]
    },
    {
      "cell_type": "code",
      "source": [
        "# combination of comparison and logical operators\n",
        "\n",
        "a = 1\n",
        "b = 2\n",
        "c = 3\n",
        "\n",
        "condition_1 = a < b  # True\n",
        "condition_2 = b > c  # False\n",
        "\n",
        "print(condition_1 and condition_2)  # False\n",
        "print(condition_1 or condition_2)   # True\n",
        "print(not condition_1)              # False\n",
        "print(not condition_2)              # True"
      ],
      "metadata": {
        "id": "Ye9KLGRgN9mD",
        "colab": {
          "base_uri": "https://localhost:8080/"
        },
        "outputId": "11048122-d298-41f6-fabe-6ec6cd5ceef6"
      },
      "execution_count": 46,
      "outputs": [
        {
          "output_type": "stream",
          "name": "stdout",
          "text": [
            "False\n",
            "True\n",
            "False\n",
            "True\n"
          ]
        }
      ]
    }
  ]
}