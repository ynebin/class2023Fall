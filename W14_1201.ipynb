{
  "cells": [
    {
      "cell_type": "markdown",
      "metadata": {
        "id": "view-in-github",
        "colab_type": "text"
      },
      "source": [
        "<a href=\"https://colab.research.google.com/github/ynebin/class2023Fall/blob/main/W14_1201.ipynb\" target=\"_parent\"><img src=\"https://colab.research.google.com/assets/colab-badge.svg\" alt=\"Open In Colab\"/></a>"
      ]
    },
    {
      "cell_type": "markdown",
      "source": [
        "# Gradio"
      ],
      "metadata": {
        "id": "em6958qfvEpm"
      }
    },
    {
      "cell_type": "code",
      "execution_count": null,
      "metadata": {
        "id": "Tb48p6aoFjbT"
      },
      "outputs": [],
      "source": [
        "!pip install gradio"
      ]
    },
    {
      "cell_type": "code",
      "execution_count": 9,
      "metadata": {
        "id": "Wk-wUKlsEDCI"
      },
      "outputs": [],
      "source": [
        "from PIL import Image\n",
        "from io import BytesIO\n",
        "from transformers import pipeline\n",
        "import gradio as gr\n",
        "import requests"
      ]
    },
    {
      "cell_type": "markdown",
      "source": [
        "## simple calculator"
      ],
      "metadata": {
        "id": "IIiHsDvIvHoz"
      }
    },
    {
      "cell_type": "code",
      "source": [
        "def add_numbers(first_num, second_num):\n",
        "  return f\"Answer is: {type(first_num)} : {first_num + second_num}\"\n",
        "\n",
        "interface = gr.Interface(fn=add_numbers, inputs = [\"number\", \"number\"], outputs=\"text\")\n",
        "interface.launch()"
      ],
      "metadata": {
        "id": "S4o7n3LJlMnM"
      },
      "execution_count": null,
      "outputs": []
    },
    {
      "cell_type": "markdown",
      "source": [
        "## image classification"
      ],
      "metadata": {
        "id": "z4WS5fqdvK_I"
      }
    },
    {
      "cell_type": "code",
      "source": [
        "classifier = pipeline(model=\"microsoft/beit-base-patch16-224-pt22k-ft22k\")\n",
        "\n",
        "def classify_image_from_url(url):\n",
        "  response = requests.get(url)\n",
        "  img = Image.open(BytesIO(response.content))\n",
        "  result = classifier(img)\n",
        "  result_dict = {item[\"label\"]: item[\"score\"] for item in result}\n",
        "  return result_dict\n",
        "\n",
        "interface = gr.Interface(fn=classify_image_from_url, inputs=\"text\", outputs=\"label\")\n",
        "interface.launch()\n",
        "\n",
        "# https://images.unsplash.com/photo-1566847438217-76e82d383f84?w=500&auto=format&fit=crop&q=60&ixlib=rb-4.0.3&ixid=M3wxMjA3fDB8MHxzZWFyY2h8NHx8Y3V0ZSUyMGNhdHxlbnwwfHwwfHx8MA%3D%3D\n",
        "# https://images.unsplash.com/photo-1693218722743-eba71402ab37?w=500&auto=format&fit=crop&q=60&ixlib=rb-4.0.3&ixid=M3wxMjA3fDB8MHxzZWFyY2h8MTR8fGN1dGUlMjBwYXJyb3R8ZW58MHx8MHx8fDA%3D\n",
        "# https://images.unsplash.com/photo-1621543597540-e9be3740352b?w=500&auto=format&fit=crop&q=60&ixlib=rb-4.0.3&ixid=M3wxMjA3fDB8MHxzZWFyY2h8NHx8d29vZCUyMGhvdXNlfGVufDB8fDB8fHww\n",
        "# https://images.unsplash.com/photo-1606770515086-ede533831581?w=500&auto=format&fit=crop&q=60&ixlib=rb-4.0.3&ixid=M3wxMjA3fDB8MHxzZWFyY2h8OHx8c25vd21hbnxlbnwwfHwwfHx8MA%3D%3D\n",
        "# https://images.unsplash.com/uploads/1413387158190559d80f7/6108b580?w=500&auto=format&fit=crop&q=60&ixlib=rb-4.0.3&ixid=M3wxMjA3fDB8MHxzZWFyY2h8Mnx8dHJhaW58ZW58MHx8MHx8fDA%3D\n",
        "# https://images.unsplash.com/photo-1556195332-95503f664ced?w=500&auto=format&fit=crop&q=60&ixlib=rb-4.0.3&ixid=M3wxMjA3fDB8MHxzZWFyY2h8Nnx8bWFnaWN8ZW58MHx8MHx8fDA%3D"
      ],
      "metadata": {
        "id": "74cRDH2Umu0s"
      },
      "execution_count": null,
      "outputs": []
    },
    {
      "cell_type": "markdown",
      "source": [
        "## fill in the blank"
      ],
      "metadata": {
        "id": "zJvd8d_Zvcdk"
      }
    },
    {
      "cell_type": "code",
      "source": [
        "fill_masker = pipeline(model=\"bert-base-uncased\")\n",
        "\n",
        "def fill_mask(sentence):\n",
        "    results = fill_masker(sentence)\n",
        "    results_list = [{ 'score': result['score'], 'token_str': result['token_str'], 'sequence': result['sequence']} for result in results]\n",
        "    return results_list\n",
        "\n",
        "interface = gr.Interface(fn=fill_mask, inputs=\"text\", outputs=\"json\")\n",
        "interface.launch()\n",
        "\n",
        "# The quick brown fox jumps over the deep [MASK].\n",
        "# To make an omelette, you need to break a few [MASK].\n",
        "# In the center of the city, you can find busy [MASK].\n",
        "# The solar system consists of eight planets, including Earth and [MASK].\n",
        "# For his bravery, the knight was awarded a golden [MASK].\n",
        "# We are not now that [MASK], which in old days Moved earth and heaven, that which we are, we are."
      ],
      "metadata": {
        "id": "xB7a9wGoqUUn"
      },
      "execution_count": null,
      "outputs": []
    },
    {
      "cell_type": "markdown",
      "source": [
        "## image caption"
      ],
      "metadata": {
        "id": "3Gi_qopbvi1M"
      }
    },
    {
      "cell_type": "code",
      "source": [
        "caption_generator = pipeline(model=\"ydshieh/vit-gpt2-coco-en\")\n",
        "\n",
        "def generate_caption_from_url(url):\n",
        "    response = requests.get(url)\n",
        "    img = Image.open(BytesIO(response.content))\n",
        "    result = caption_generator(img)[0]['generated_text']\n",
        "    return result\n",
        "\n",
        "interface = gr.Interface(fn=generate_caption_from_url, inputs=\"text\", outputs=\"text\")\n",
        "interface.launch()\n",
        "\n",
        "# https://images.unsplash.com/photo-1566847438217-76e82d383f84?w=500&auto=format&fit=crop&q=60&ixlib=rb-4.0.3&ixid=M3wxMjA3fDB8MHxzZWFyY2h8NHx8Y3V0ZSUyMGNhdHxlbnwwfHwwfHx8MA%3D%3D\n",
        "# https://images.unsplash.com/photo-1693218722743-eba71402ab37?w=500&auto=format&fit=crop&q=60&ixlib=rb-4.0.3&ixid=M3wxMjA3fDB8MHxzZWFyY2h8MTR8fGN1dGUlMjBwYXJyb3R8ZW58MHx8MHx8fDA%3D\n",
        "# https://images.unsplash.com/photo-1700557277193-896271a65773?w=500&auto=format&fit=crop&q=60&ixlib=rb-4.0.3&ixid=M3wxMjA3fDB8MHxlZGl0b3JpYWwtZmVlZHw5fHx8ZW58MHx8fHx8\n",
        "# https://images.unsplash.com/photo-1700496462947-f772a716de6f?w=500&auto=format&fit=crop&q=60&ixlib=rb-4.0.3&ixid=M3wxMjA3fDB8MHxlZGl0b3JpYWwtZmVlZHwxNDN8fHxlbnwwfHx8fHw%3D\n",
        "# https://images.unsplash.com/photo-1493612276216-ee3925520721?w=500&auto=format&fit=crop&q=60&ixlib=rb-4.0.3&ixid=M3wxMjA3fDB8MHxzZWFyY2h8MTF8fGludGVyYWN0aW9ufGVufDB8fDB8fHww\n",
        "# https://images.unsplash.com/photo-1507238691740-187a5b1d37b8?w=500&auto=format&fit=crop&q=60&ixlib=rb-4.0.3&ixid=M3wxMjA3fDB8MHxzZWFyY2h8NDJ8fGludGVyYWN0aW9ufGVufDB8fDB8fHww"
      ],
      "metadata": {
        "id": "tOvKsiP1qdrk"
      },
      "execution_count": null,
      "outputs": []
    },
    {
      "cell_type": "markdown",
      "source": [
        "## question answering"
      ],
      "metadata": {
        "id": "KD55G-8kwIQs"
      }
    },
    {
      "cell_type": "code",
      "source": [
        "qa_bot = pipeline(model=\"deepset/roberta-base-squad2\")\n",
        "\n",
        "def answer_question(question, context):\n",
        "    result = qa_bot(question=question, context=context)\n",
        "    result_text = result['answer']\n",
        "    return result_text\n",
        "\n",
        "interface = gr.Interface(fn=answer_question, inputs=[\"text\", \"text_area\"], outputs=\"text\")\n",
        "interface.launch()\n",
        "\n",
        "# q: Where do I live?\n",
        "# c: My name is Wolfgang and I live in Berlin\n",
        "\n",
        "# q: Who was the first President of the United States?\n",
        "# c: George Washington was an American political leader, military general, statesman, and Founding Father who served as the first President of the United States from 1789 to 1797.\n",
        "\n",
        "# q: What is the main theme of 'To Kill a Mockingbird'?\n",
        "# c: 'To Kill a Mockingbird' is a novel by Harper Lee published in 1960. Instantly successful, widely read in high schools and middle schools in the United States, the novel has become a classic of modern American literature. The plot and characters are loosely based on the author's observations of her family and neighbors, as well as an event that occurred near her hometown in 1936, when she was 10 years old. The novel is renowned for its warmth and humor, despite dealing with serious issues of rape and racial inequality.\n",
        "\n",
        "# q: What is the speed of light?\n",
        "# c: The speed of light in vacuum, commonly denoted c, is a universal physical constant important in many areas of physics. Its exact value is 299,792,458 metres per second.\n",
        "\n",
        "# q: What is the capital of France?\n",
        "# c: France is a country whose territory consists of metropolitan France in Western Europe and several overseas regions and territories. The capital of France is Paris, which is known for its art, history, and culture.\n",
        "\n",
        "# q: Who directed the movie 'Inception'?\n",
        "# c: 'Inception' is a 2010 science fiction action film written and directed by Christopher Nolan, who also produced the film with his wife, Emma Thomas. The film stars Leonardo DiCaprio as a professional thief who steals information by infiltrating the subconscious of his targets."
      ],
      "metadata": {
        "id": "FOWnD83FrwJY"
      },
      "execution_count": null,
      "outputs": []
    }
  ],
  "metadata": {
    "colab": {
      "provenance": [],
      "authorship_tag": "ABX9TyNa2Xi1snIgn6uaRA7GzFih",
      "include_colab_link": true
    },
    "kernelspec": {
      "display_name": "Python 3",
      "name": "python3"
    },
    "language_info": {
      "name": "python"
    }
  },
  "nbformat": 4,
  "nbformat_minor": 0
}