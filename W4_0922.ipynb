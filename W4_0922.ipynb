{
  "nbformat": 4,
  "nbformat_minor": 0,
  "metadata": {
    "colab": {
      "provenance": [],
      "authorship_tag": "ABX9TyPbrWz74NMpwxKdU/pQ8Omz",
      "include_colab_link": true
    },
    "kernelspec": {
      "name": "python3",
      "display_name": "Python 3"
    },
    "language_info": {
      "name": "python"
    }
  },
  "cells": [
    {
      "cell_type": "markdown",
      "metadata": {
        "id": "view-in-github",
        "colab_type": "text"
      },
      "source": [
        "<a href=\"https://colab.research.google.com/github/ynebin/class2023Fall/blob/main/W4_0922.ipynb\" target=\"_parent\"><img src=\"https://colab.research.google.com/assets/colab-badge.svg\" alt=\"Open In Colab\"/></a>"
      ]
    },
    {
      "cell_type": "markdown",
      "source": [
        "# Control flows"
      ],
      "metadata": {
        "id": "gEsda-IGNHPw"
      }
    },
    {
      "cell_type": "markdown",
      "source": [
        "## if\n",
        "* executes certain code blocks conditionally\n",
        "* based on whether a specified condition is `True` or `False`\n",
        "\n",
        "```\n",
        "if condition:\n",
        "  # code to be executed if the condition is true\n",
        "```"
      ],
      "metadata": {
        "id": "LyGnQhm5NLdW"
      }
    },
    {
      "cell_type": "code",
      "execution_count": 1,
      "metadata": {
        "colab": {
          "base_uri": "https://localhost:8080/"
        },
        "id": "0Og5TELbNBgl",
        "outputId": "baa7c055-5a12-48a2-c650-efd725aa321c"
      },
      "outputs": [
        {
          "output_type": "stream",
          "name": "stdout",
          "text": [
            "hot\n"
          ]
        }
      ],
      "source": [
        "temperature = 32\n",
        "\n",
        "if temperature >= 30:\n",
        "  print(\"hot\")"
      ]
    },
    {
      "cell_type": "markdown",
      "source": [
        "### else\n",
        "* specifies what should happen when the condition is `False`"
      ],
      "metadata": {
        "id": "T_4rAqCfOCQj"
      }
    },
    {
      "cell_type": "code",
      "source": [
        "temperature = 20\n",
        "\n",
        "if temperature >= 30:\n",
        "  print(\"hot\")\n",
        "else:\n",
        "  print(\"cold\")"
      ],
      "metadata": {
        "colab": {
          "base_uri": "https://localhost:8080/"
        },
        "id": "DQi8KqF6OKWa",
        "outputId": "5fdac074-6684-414b-ca9b-b3096bcaef6d"
      },
      "execution_count": 2,
      "outputs": [
        {
          "output_type": "stream",
          "name": "stdout",
          "text": [
            "cold\n"
          ]
        }
      ]
    },
    {
      "cell_type": "markdown",
      "source": [
        "### elif\n",
        "* used to handle multiple conditions"
      ],
      "metadata": {
        "id": "dUcSM6DKOQk9"
      }
    },
    {
      "cell_type": "code",
      "source": [
        "temperature = 8\n",
        "\n",
        "if temperature >= 30:\n",
        "  print(\"hot\")\n",
        "elif temperature <= 10:\n",
        "  print(\"cold\")\n",
        "else:\n",
        "  print(\"warm\")"
      ],
      "metadata": {
        "colab": {
          "base_uri": "https://localhost:8080/"
        },
        "id": "9hVe1ZY5OX8s",
        "outputId": "92b5b235-07ea-42ad-b603-e7d60eabf17a"
      },
      "execution_count": 3,
      "outputs": [
        {
          "output_type": "stream",
          "name": "stdout",
          "text": [
            "cold\n"
          ]
        }
      ]
    },
    {
      "cell_type": "markdown",
      "source": [
        "### complex condition"
      ],
      "metadata": {
        "id": "9IFjZrq9PAW0"
      }
    },
    {
      "cell_type": "code",
      "source": [
        "temperature = 15\n",
        "\n",
        "if temperature > 10 and temperature < 30:\n",
        "  print(\"warm\")"
      ],
      "metadata": {
        "colab": {
          "base_uri": "https://localhost:8080/"
        },
        "id": "lZ8G7KTSPCqx",
        "outputId": "c7d2ed4a-a945-4421-93e2-e6ae70fe212e"
      },
      "execution_count": 4,
      "outputs": [
        {
          "output_type": "stream",
          "name": "stdout",
          "text": [
            "warm\n"
          ]
        }
      ]
    },
    {
      "cell_type": "markdown",
      "source": [
        "## for\n",
        "* iterates over a sequence of elements\n",
        "\n",
        "```\n",
        "for element in sequence:\n",
        "  # Code to be executed for each element\n",
        "```"
      ],
      "metadata": {
        "id": "9JhsYlYFPdgs"
      }
    },
    {
      "cell_type": "code",
      "source": [
        "# list\n",
        "\n",
        "for i in [1, 2, 3]:\n",
        "  print(i)"
      ],
      "metadata": {
        "colab": {
          "base_uri": "https://localhost:8080/"
        },
        "id": "BxhQAXihPyPW",
        "outputId": "90db4f90-3a48-4b45-f905-ed397d405f4d"
      },
      "execution_count": 5,
      "outputs": [
        {
          "output_type": "stream",
          "name": "stdout",
          "text": [
            "1\n",
            "2\n",
            "3\n"
          ]
        }
      ]
    },
    {
      "cell_type": "code",
      "source": [
        "# string\n",
        "\n",
        "for c in \"hello\":\n",
        "  print(c)"
      ],
      "metadata": {
        "colab": {
          "base_uri": "https://localhost:8080/"
        },
        "id": "7HS1KKBPQK_o",
        "outputId": "c0482297-7d39-4d13-8506-c0ec04bb5c66"
      },
      "execution_count": 6,
      "outputs": [
        {
          "output_type": "stream",
          "name": "stdout",
          "text": [
            "h\n",
            "e\n",
            "l\n",
            "l\n",
            "o\n"
          ]
        }
      ]
    },
    {
      "cell_type": "code",
      "source": [
        "# dict.items()\n",
        "\n",
        "scores = {\"Emily\": 90, \"Liam\": 88, \"Ethan\": 94, \"Olivia\": 92}\n",
        "\n",
        "for k, v in scores.items():\n",
        "  print(f\"{k}: {v}\")"
      ],
      "metadata": {
        "colab": {
          "base_uri": "https://localhost:8080/"
        },
        "id": "a4iJyjwrQRgq",
        "outputId": "42e4898c-fbfe-4a35-fd27-b9ef8d361127"
      },
      "execution_count": 7,
      "outputs": [
        {
          "output_type": "stream",
          "name": "stdout",
          "text": [
            "Emily: 90\n",
            "Liam: 88\n",
            "Ethan: 94\n",
            "Olivia: 92\n"
          ]
        }
      ]
    },
    {
      "cell_type": "markdown",
      "source": [
        "### range\n",
        "* generates a sequence of numbers within a specififed range\n",
        "\n",
        "```\n",
        "range(x)\n",
        "```"
      ],
      "metadata": {
        "id": "kaQHEhpqQ9Me"
      }
    },
    {
      "cell_type": "code",
      "source": [
        "for i in range(4):  # generates from 0 to 3\n",
        "  print(i)"
      ],
      "metadata": {
        "colab": {
          "base_uri": "https://localhost:8080/"
        },
        "id": "-uEwJ8v5ROkA",
        "outputId": "00f57d87-7339-48f3-fd04-8b32a727d882"
      },
      "execution_count": 8,
      "outputs": [
        {
          "output_type": "stream",
          "name": "stdout",
          "text": [
            "0\n",
            "1\n",
            "2\n",
            "3\n"
          ]
        }
      ]
    },
    {
      "cell_type": "code",
      "source": [
        "for i in range(1, 4):  # generates from 1 to 3\n",
        "  print(i)"
      ],
      "metadata": {
        "colab": {
          "base_uri": "https://localhost:8080/"
        },
        "id": "IZIRxmaoRmH8",
        "outputId": "9186c256-b5ab-4610-c755-e63446a4e084"
      },
      "execution_count": 9,
      "outputs": [
        {
          "output_type": "stream",
          "name": "stdout",
          "text": [
            "1\n",
            "2\n",
            "3\n"
          ]
        }
      ]
    },
    {
      "cell_type": "markdown",
      "source": [
        "## while\n",
        "* repeatedly executes a code block as long as a specified condition is `True`\n",
        "\n",
        "```\n",
        "while condition:\n",
        "  # Code to be executed while the condition is true\n",
        "```"
      ],
      "metadata": {
        "id": "WERF6qhrRwq2"
      }
    },
    {
      "cell_type": "code",
      "source": [
        "a = 0\n",
        "\n",
        "while a < 5:\n",
        "  a += 1  # a = a + 1\n",
        "  print(a)"
      ],
      "metadata": {
        "colab": {
          "base_uri": "https://localhost:8080/"
        },
        "id": "8eeXQbedSeT-",
        "outputId": "b8141238-cace-444b-b04f-d7d4026c0b3d"
      },
      "execution_count": 10,
      "outputs": [
        {
          "output_type": "stream",
          "name": "stdout",
          "text": [
            "1\n",
            "2\n",
            "3\n",
            "4\n",
            "5\n"
          ]
        }
      ]
    },
    {
      "cell_type": "markdown",
      "source": [
        "### break\n",
        "* exits a loop based on a certain condition"
      ],
      "metadata": {
        "id": "TRec53qiTNsY"
      }
    },
    {
      "cell_type": "code",
      "source": [
        "while True:\n",
        "  user_input = input(\"Type in: \")\n",
        "\n",
        "  if user_input == \"quit\":\n",
        "    break"
      ],
      "metadata": {
        "colab": {
          "base_uri": "https://localhost:8080/"
        },
        "id": "aA1YkcUBSn2j",
        "outputId": "a489124d-f649-4dd9-f964-f8d91f411869"
      },
      "execution_count": 11,
      "outputs": [
        {
          "name": "stdout",
          "output_type": "stream",
          "text": [
            "Type in: hello\n",
            "Type in: python\n",
            "Type in: this is a message\n",
            "Type in: quit\n"
          ]
        }
      ]
    },
    {
      "cell_type": "markdown",
      "source": [
        "# Function\n",
        "* a reusable code block that performs a specific task\n",
        "\n",
        "```\n",
        "def x(parameters):\n",
        "  # Code to perform a specific task\n",
        "  return result\n",
        "```"
      ],
      "metadata": {
        "id": "2slOJG5nTfco"
      }
    },
    {
      "cell_type": "code",
      "source": [
        "def add(a, b):\n",
        "  result = a + b\n",
        "  return result\n",
        "\n",
        "r = add(1, 2)\n",
        "print(r)"
      ],
      "metadata": {
        "colab": {
          "base_uri": "https://localhost:8080/"
        },
        "id": "xm07De7jTrl8",
        "outputId": "575389b2-ff78-4793-cf0e-5bc9272ca215"
      },
      "execution_count": 12,
      "outputs": [
        {
          "output_type": "stream",
          "name": "stdout",
          "text": [
            "3\n"
          ]
        }
      ]
    },
    {
      "cell_type": "code",
      "source": [
        "# a function without inputs and outputs\n",
        "\n",
        "def greeting():\n",
        "  print(\"Hello\")\n",
        "\n",
        "greeting()"
      ],
      "metadata": {
        "colab": {
          "base_uri": "https://localhost:8080/"
        },
        "id": "Z37AwBjdUMyy",
        "outputId": "18d060df-174c-438c-f77b-143cdc7c4eda"
      },
      "execution_count": 13,
      "outputs": [
        {
          "output_type": "stream",
          "name": "stdout",
          "text": [
            "Hello\n"
          ]
        }
      ]
    },
    {
      "cell_type": "markdown",
      "source": [
        "## Scope\n",
        "* the region of code where a particular variable is accessible"
      ],
      "metadata": {
        "id": "YC0dhHbAUep1"
      }
    },
    {
      "cell_type": "markdown",
      "source": [
        "### local scope (function scope)\n",
        "* variables created inside a function have a local scope\n",
        "* only accessible within that function"
      ],
      "metadata": {
        "id": "th4slgtAUsp6"
      }
    },
    {
      "cell_type": "code",
      "source": [
        "def my_function():\n",
        "  x = 10  # local scope\n",
        "  print(x)\n",
        "\n",
        "my_function()\n",
        "print(x)  # Raises an error since x is a local variable"
      ],
      "metadata": {
        "colab": {
          "base_uri": "https://localhost:8080/",
          "height": 233
        },
        "id": "utwYWBUpUsCd",
        "outputId": "43458fd4-1744-4d55-df08-765facd586ba"
      },
      "execution_count": 14,
      "outputs": [
        {
          "output_type": "stream",
          "name": "stdout",
          "text": [
            "10\n"
          ]
        },
        {
          "output_type": "error",
          "ename": "NameError",
          "evalue": "ignored",
          "traceback": [
            "\u001b[0;31m---------------------------------------------------------------------------\u001b[0m",
            "\u001b[0;31mNameError\u001b[0m                                 Traceback (most recent call last)",
            "\u001b[0;32m<ipython-input-14-49d4a9d8ffba>\u001b[0m in \u001b[0;36m<cell line: 6>\u001b[0;34m()\u001b[0m\n\u001b[1;32m      4\u001b[0m \u001b[0;34m\u001b[0m\u001b[0m\n\u001b[1;32m      5\u001b[0m \u001b[0mmy_function\u001b[0m\u001b[0;34m(\u001b[0m\u001b[0;34m)\u001b[0m\u001b[0;34m\u001b[0m\u001b[0;34m\u001b[0m\u001b[0m\n\u001b[0;32m----> 6\u001b[0;31m \u001b[0mprint\u001b[0m\u001b[0;34m(\u001b[0m\u001b[0mx\u001b[0m\u001b[0;34m)\u001b[0m  \u001b[0;31m# Raises an error since x is a local variable\u001b[0m\u001b[0;34m\u001b[0m\u001b[0;34m\u001b[0m\u001b[0m\n\u001b[0m",
            "\u001b[0;31mNameError\u001b[0m: name 'x' is not defined"
          ]
        }
      ]
    },
    {
      "cell_type": "markdown",
      "source": [
        "### global scope\n",
        "* variables defined outside of any function (typically at the top level of a script) have a global scope\n",
        "* can be accessed from any part of the code"
      ],
      "metadata": {
        "id": "BMAw8j32VmHC"
      }
    },
    {
      "cell_type": "code",
      "source": [
        "y = 20  # global variable\n",
        "\n",
        "def another_function():\n",
        "  print(y)\n",
        "\n",
        "another_function()\n",
        "print(y)"
      ],
      "metadata": {
        "colab": {
          "base_uri": "https://localhost:8080/"
        },
        "id": "E4QFVqoTV_kr",
        "outputId": "22e9aba5-41a3-4085-eeb6-cbb6dd72002c"
      },
      "execution_count": 15,
      "outputs": [
        {
          "output_type": "stream",
          "name": "stdout",
          "text": [
            "20\n",
            "20\n"
          ]
        }
      ]
    }
  ]
}