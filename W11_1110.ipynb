{
  "nbformat": 4,
  "nbformat_minor": 0,
  "metadata": {
    "colab": {
      "provenance": [],
      "authorship_tag": "ABX9TyPJa8KNxysIGrEfbzPNzDMJ",
      "include_colab_link": true
    },
    "kernelspec": {
      "name": "python3",
      "display_name": "Python 3"
    },
    "language_info": {
      "name": "python"
    }
  },
  "cells": [
    {
      "cell_type": "markdown",
      "metadata": {
        "id": "view-in-github",
        "colab_type": "text"
      },
      "source": [
        "<a href=\"https://colab.research.google.com/github/ynebin/class2023Fall/blob/main/W11_1110.ipynb\" target=\"_parent\"><img src=\"https://colab.research.google.com/assets/colab-badge.svg\" alt=\"Open In Colab\"/></a>"
      ]
    },
    {
      "cell_type": "markdown",
      "source": [
        "# Web scraping"
      ],
      "metadata": {
        "id": "VSSuSB2qiet3"
      }
    },
    {
      "cell_type": "markdown",
      "source": [
        "## requests"
      ],
      "metadata": {
        "id": "Bx2f6wlSisBJ"
      }
    },
    {
      "cell_type": "code",
      "execution_count": 1,
      "metadata": {
        "id": "J0iRFyHziX9a",
        "colab": {
          "base_uri": "https://localhost:8080/"
        },
        "outputId": "73d08ed4-4552-45c6-bac7-009bfdafd76f"
      },
      "outputs": [
        {
          "output_type": "stream",
          "name": "stdout",
          "text": [
            "200\n"
          ]
        }
      ],
      "source": [
        "import requests\n",
        "\n",
        "response = requests.get(\"https://example.com\")  # sends a GET request to the server\n",
        "print(response.status_code)                     # checks the response status code"
      ]
    },
    {
      "cell_type": "code",
      "source": [
        "print(response.text)  # prints the response content string"
      ],
      "metadata": {
        "colab": {
          "base_uri": "https://localhost:8080/"
        },
        "id": "vNqqPp1Fkgs-",
        "outputId": "7ab25a12-5794-4e13-fcbd-7bb166629295"
      },
      "execution_count": 2,
      "outputs": [
        {
          "output_type": "stream",
          "name": "stdout",
          "text": [
            "<!doctype html>\n",
            "<html>\n",
            "<head>\n",
            "    <title>Example Domain</title>\n",
            "\n",
            "    <meta charset=\"utf-8\" />\n",
            "    <meta http-equiv=\"Content-type\" content=\"text/html; charset=utf-8\" />\n",
            "    <meta name=\"viewport\" content=\"width=device-width, initial-scale=1\" />\n",
            "    <style type=\"text/css\">\n",
            "    body {\n",
            "        background-color: #f0f0f2;\n",
            "        margin: 0;\n",
            "        padding: 0;\n",
            "        font-family: -apple-system, system-ui, BlinkMacSystemFont, \"Segoe UI\", \"Open Sans\", \"Helvetica Neue\", Helvetica, Arial, sans-serif;\n",
            "        \n",
            "    }\n",
            "    div {\n",
            "        width: 600px;\n",
            "        margin: 5em auto;\n",
            "        padding: 2em;\n",
            "        background-color: #fdfdff;\n",
            "        border-radius: 0.5em;\n",
            "        box-shadow: 2px 3px 7px 2px rgba(0,0,0,0.02);\n",
            "    }\n",
            "    a:link, a:visited {\n",
            "        color: #38488f;\n",
            "        text-decoration: none;\n",
            "    }\n",
            "    @media (max-width: 700px) {\n",
            "        div {\n",
            "            margin: 0 auto;\n",
            "            width: auto;\n",
            "        }\n",
            "    }\n",
            "    </style>    \n",
            "</head>\n",
            "\n",
            "<body>\n",
            "<div>\n",
            "    <h1>Example Domain</h1>\n",
            "    <p>This domain is for use in illustrative examples in documents. You may use this\n",
            "    domain in literature without prior coordination or asking for permission.</p>\n",
            "    <p><a href=\"https://www.iana.org/domains/example\">More information...</a></p>\n",
            "</div>\n",
            "</body>\n",
            "</html>\n",
            "\n"
          ]
        }
      ]
    },
    {
      "cell_type": "markdown",
      "source": [
        "## BeautifulSoup"
      ],
      "metadata": {
        "id": "HIhDQo7Xjwut"
      }
    },
    {
      "cell_type": "code",
      "source": [
        "import os\n",
        "\n",
        "html_url = \"https://raw.githubusercontent.com/ynebin/class2023Fall/main/my_page.html\"\n",
        "os.system(\"curl \" + html_url + \" > test.html\")"
      ],
      "metadata": {
        "colab": {
          "base_uri": "https://localhost:8080/"
        },
        "id": "OYSqq1LeirMh",
        "outputId": "7c3ba7d4-8119-45f8-9377-69e2132e2cfa"
      },
      "execution_count": 3,
      "outputs": [
        {
          "output_type": "execute_result",
          "data": {
            "text/plain": [
              "0"
            ]
          },
          "metadata": {},
          "execution_count": 3
        }
      ]
    },
    {
      "cell_type": "code",
      "source": [
        "from bs4 import BeautifulSoup\n",
        "\n",
        "with open(\"test.html\", \"r\") as f:\n",
        "  content = f.read()\n",
        "  soup = BeautifulSoup(content, \"html.parser\")\n",
        "\n",
        "print(soup)"
      ],
      "metadata": {
        "colab": {
          "base_uri": "https://localhost:8080/"
        },
        "id": "hK6iPWv5kIuh",
        "outputId": "d052b42e-0682-4215-e09e-25d461f86985"
      },
      "execution_count": 4,
      "outputs": [
        {
          "output_type": "stream",
          "name": "stdout",
          "text": [
            "<!DOCTYPE html>\n",
            "\n",
            "<html>\n",
            "<head>\n",
            "<title>My Page</title>\n",
            "</head>\n",
            "<body>\n",
            "<h1>My Page</h1>\n",
            "<p>\n",
            "            This is a paragraph. <br/>\n",
            "            It is in my page.\n",
            "        </p>\n",
            "<a href=\"https://github.com/ynebin/class2023Fall\">Class 2023 Fall</a>\n",
            "</body>\n",
            "</html>\n",
            "\n"
          ]
        }
      ]
    },
    {
      "cell_type": "code",
      "source": [
        "paragraphs = soup.find_all(\"p\")  # BeautifulSoup finds all <p> tags in the HTML and wraps them in a list\n",
        "print(paragraphs)"
      ],
      "metadata": {
        "colab": {
          "base_uri": "https://localhost:8080/"
        },
        "id": "zSlI5O6_kn0a",
        "outputId": "51f4a9ad-a84c-4413-b9cc-1b45db28170b"
      },
      "execution_count": 5,
      "outputs": [
        {
          "output_type": "stream",
          "name": "stdout",
          "text": [
            "[<p>\n",
            "            This is a paragraph. <br/>\n",
            "            It is in my page.\n",
            "        </p>]\n"
          ]
        }
      ]
    },
    {
      "cell_type": "markdown",
      "source": [
        "## requests + BeautifulSoup"
      ],
      "metadata": {
        "id": "kaa1Darnlv7w"
      }
    },
    {
      "cell_type": "code",
      "source": [
        "url = \"https://en.wikipedia.org/wiki/Cat\"\n",
        "page = requests.get(url)"
      ],
      "metadata": {
        "id": "cmyaAcwLlcY6"
      },
      "execution_count": 6,
      "outputs": []
    },
    {
      "cell_type": "code",
      "source": [
        "soup = BeautifulSoup(page.content, \"html.parser\")"
      ],
      "metadata": {
        "id": "df2-Vsj7l9xa"
      },
      "execution_count": 7,
      "outputs": []
    },
    {
      "cell_type": "code",
      "source": [
        "paragraphs = soup.find_all('p')\n",
        "\n",
        "for p in paragraphs:\n",
        "  print(p.text)"
      ],
      "metadata": {
        "colab": {
          "base_uri": "https://localhost:8080/"
        },
        "id": "goNpJ6YkmJAd",
        "outputId": "1584d06e-f7cd-4c45-b0da-419749efb238"
      },
      "execution_count": 8,
      "outputs": [
        {
          "output_type": "stream",
          "name": "stdout",
          "text": [
            "\n",
            "\n",
            "The cat (Felis catus), commonly referred to as the domestic cat or house cat, is the only domesticated species in the family Felidae. Recent advances in archaeology and genetics have shown that the domestication of the cat occurred in the Near East around 7500 BC. It is commonly kept as a house pet and farm cat, but also ranges freely as a feral cat avoiding human contact. It is valued by humans for companionship and its ability to kill vermin. Because of its retractable claws it is adapted to killing small prey like mice and rats. It has a strong flexible body, quick reflexes, sharp teeth, and its night vision and sense of smell are well developed. It is a social species, but a solitary hunter and a crepuscular predator. Cat communication includes vocalizations like meowing, purring, trilling, hissing, growling, and grunting as well as cat body language. It can hear sounds too faint or too high in frequency for human ears, such as those made by small mammals. It also secretes and perceives pheromones.\n",
            "\n",
            "Female domestic cats can have kittens from spring to late autumn in temperate zones and throughout the year in equatorial regions, with litter sizes often ranging from two to five kittens. Domestic cats are bred and shown at events as registered pedigreed cats, a hobby known as cat fancy. Animal population control of cats may be achieved by spaying and neutering, but their proliferation and the abandonment of pets has resulted in large numbers of feral cats worldwide, contributing to the extinction of bird, mammal and reptile species.\n",
            "\n",
            "As of 2017,[update] the domestic cat was the second most popular pet in the United States, with 95.6 million cats owned and around 42 million households owning at least one cat. In the United Kingdom, 26% of adults have a cat, with an estimated population of 10.9 million pet cats as of 2020.[update] As of 2021,[update] there were an estimated 220 million owned and 480 million stray cats in the world.\n",
            "\n",
            "The origin of the English word cat, Old English catt, is thought to be the Late Latin word cattus, which was first used at the beginning of the 6th century.[4] The Late Latin word may be derived from an unidentified African language.[5] The Nubian word kaddîska 'wildcat' and Nobiin kadīs are possible sources or cognates.[6] The Nubian word may be a loan from Arabic قَطّ‎ qaṭṭ ~ قِطّ qiṭṭ.[citation needed]\n",
            "\n",
            "However, it is \"equally likely that the forms might derive from an ancient Germanic word, imported into Latin and thence to Greek and to Syriac and Arabic\".[7] The word may be derived from Germanic and Northern European languages, and ultimately be borrowed from Uralic, cf. Northern Sámi gáđfi, 'female stoat', and Hungarian hölgy, 'lady, female stoat'; from Proto-Uralic *käďwä, 'female (of a furred animal)'.[8]\n",
            "\n",
            "The English puss, extended as pussy and pussycat, is attested from the 16th century and may have been introduced from Dutch poes or from Low German puuskatte, related to Swedish kattepus, or Norwegian pus, pusekatt. Similar forms exist in Lithuanian puižė and Irish puisín or puiscín. The etymology of this word is unknown, but it may have arisen from a sound used to attract a cat.[9][10]\n",
            "\n",
            "A male cat is called a tom or tomcat[11] (or a gib,[12] if neutered). A female is called a queen[13] (or a molly,[14][user-generated source?] if spayed), especially in a cat-breeding context. A juvenile cat is referred to as a kitten. In Early Modern English, the word kitten was interchangeable with the now-obsolete word catling.[15] A group of cats can be referred to as a clowder or a glaring.[16]\n",
            "\n",
            "The scientific name Felis catus was proposed by Carl Linnaeus in 1758 for a domestic cat.[1][2] Felis catus domesticus was proposed by Johann Christian Polycarp Erxleben in 1777.[3] Felis daemon proposed by Konstantin Satunin in 1904 was a black cat from the Transcaucasus, later identified as a domestic cat.[17][18]\n",
            "\n",
            "In 2003, the International Commission on Zoological Nomenclature ruled that the domestic cat is a distinct species, namely Felis catus.[19][20]\n",
            "In 2007, it was considered a subspecies, F. silvestris catus, of the European wildcat (F. silvestris) following results of phylogenetic research.[21][22] In 2017, the IUCN Cat Classification Taskforce followed the recommendation of the ICZN in regarding the domestic cat as a distinct species, Felis catus.[23]\n",
            "\n",
            "The domestic cat is a member of the Felidae, a family that had a common ancestor about 10 to 15 million years ago.[24] The evolutionary radiation of the Felidae began in Asia during the Miocene around 8.38 to 14.45 million years ago.[25] Analysis of mitochondrial DNA of all Felidae species indicates a radiation at 6.46 to 16.76 million years ago.[26]\n",
            "The genus Felis genetically diverged from other Felidae around 6 to 7 million years ago.[25] \n",
            "Results of phylogenetic research shows that the wild members of this genus evolved through sympatric or parapatric speciation, whereas the domestic cat evolved through artificial selection.[27]\n",
            "The domestic cat and its closest wild ancestor are diploid and both possess 38 chromosomes[28] and roughly 20,000 genes.[29]\n",
            "\n",
            "Domestic cat (F. catus) \n",
            "\n",
            "European wildcat (F. silvestris) \n",
            "\n",
            "African wildcat (F. lybica)\n",
            "\n",
            "Chinese mountain cat (F. bieti)\n",
            "\n",
            "Sand cat (F. margarita)\n",
            "\n",
            "Black-footed cat (F. nigripes)\n",
            "\n",
            "Jungle cat (F. chaus) \n",
            "\n",
            "other Felinae lineages\n",
            "\n",
            "Pantherinae\n",
            "\n",
            "Domestic cat\n",
            "\n",
            "Near Eastern wildcat\n",
            "\n",
            "Asiatic wildcat\n",
            "\n",
            "Southern African wildcat\n",
            "\n",
            "European wildcat\n",
            "\n",
            "Chinese mountain cat\n",
            "\n",
            "Sand cat\n",
            "\n",
            "It was long thought that the domestication of the cat began in ancient Egypt, where cats were venerated from around 3100 BC,[31][32]\n",
            "However, the earliest known indication for the taming of an African wildcat was excavated close by a human Neolithic grave in Shillourokambos, southern Cyprus, dating to about 7500–7200 BC. Since there is no evidence of native mammalian fauna on Cyprus, the inhabitants of this Neolithic village most likely brought the cat and other wild mammals to the island from the Middle Eastern mainland.[33] Scientists therefore assume that African wildcats were attracted to early human settlements in the Fertile Crescent by rodents, in particular the house mouse (Mus musculus), and were tamed by Neolithic farmers. This mutual relationship between early farmers and tamed cats lasted thousands of years. As agricultural practices spread, so did tame and domesticated cats.[30][34] Wildcats of Egypt contributed to the maternal gene pool of the domestic cat at a later time.[35]\n",
            "\n",
            "The earliest known evidence for the occurrence of the domestic cat in Greece dates to around 1200 BC. Greek, Phoenician, Carthaginian and Etruscan traders introduced domestic cats to southern Europe.[36] During the Roman Empire they were introduced to Corsica and Sardinia before the beginning of the 1st millennium.[37] By the 5th century BC, they were familiar animals around settlements in Magna Graecia and Etruria.[38] By the end of the Western Roman Empire in the 5th century, the Egyptian domestic cat lineage had arrived in a Baltic Sea port in northern Germany.[35]\n",
            "\n",
            "The leopard cat (Prionailurus bengalensis) was tamed independently in China around 5500 BC. This line of partially domesticated cats leaves no trace in the domestic cat populations of today.[39]\n",
            "\n",
            "During domestication, cats have undergone only minor changes in anatomy and behavior, and they are still capable of surviving in the wild. Several natural behaviors and characteristics of wildcats may have pre-adapted them for domestication as pets. These traits include their small size, social nature, obvious body language, love of play, and high intelligence. Captive Leopardus cats may also display affectionate behavior toward humans but were not domesticated.[40] House cats often mate with feral cats.[41] Hybridisation between domestic and other Felinae species is also possible, producing hybrids such as the Kellas cat in Scotland.[42][43]\n",
            "\n",
            "Development of cat breeds started in the mid 19th century.[44] An analysis of the domestic cat genome revealed that the ancestral wildcat genome was significantly altered in the process of domestication, as specific mutations were selected to develop cat breeds.[45] Most breeds are founded on random-bred domestic cats. Genetic diversity of these breeds varies between regions, and is lowest in purebred populations, which show more than 20 deleterious genetic disorders.[46]\n",
            "\n",
            "The domestic cat has a smaller skull and shorter bones than the European wildcat.[47] It averages about 46 cm (18 in) in head-to-body length and 23–25 cm (9–10 in) in height, with about 30 cm (12 in) long tails. Males are larger than females.[48]\n",
            "Adult domestic cats typically weigh between 4 and 5 kg (9 and 11 lb).[27]\n",
            "\n",
            "Cats have seven cervical vertebrae (as do most mammals); 13 thoracic vertebrae (humans have 12); seven lumbar vertebrae (humans have five); three sacral vertebrae (as do most mammals, but humans have five); and a variable number of caudal vertebrae in the tail (humans have only three to five vestigial caudal vertebrae, fused into an internal coccyx).[49]: 11  The extra lumbar and thoracic vertebrae account for the cat's spinal mobility and flexibility. Attached to the spine are 13 ribs, the shoulder, and the pelvis.[49]: 16  Unlike human arms, cat forelimbs are attached to the shoulder by free-floating clavicle bones which allow them to pass their body through any space into which they can fit their head.[50]\n",
            "\n",
            "The cat skull is unusual among mammals in having very large eye sockets and a powerful specialized jaw.[51]: 35  Within the jaw, cats have teeth adapted for killing prey and tearing meat. When it overpowers its prey, a cat delivers a lethal neck bite with its two long canine teeth, inserting them between two of the prey's vertebrae and severing its spinal cord, causing irreversible paralysis and death.[52] Compared to other felines, domestic cats have narrowly spaced canine teeth relative to the size of their jaw, which is an adaptation to their preferred prey of small rodents, which have small vertebrae.[52]\n",
            "\n",
            "The premolar and first molar together compose the carnassial pair on each side of the mouth, which efficiently shears meat into small pieces, like a pair of scissors. These are vital in feeding, since cats' small molars cannot chew food effectively, and cats are largely incapable of mastication.[51]: 37  Cats tend to have better teeth than most humans, with decay generally less likely because of a thicker protective layer of enamel, a less damaging saliva, less retention of food particles between teeth, and a diet mostly devoid of sugar. Nonetheless, they are subject to occasional tooth loss and infection.[53]\n",
            "\n",
            "Cats have protractible and retractable claws.[54] In their normal, relaxed position, the claws are sheathed with the skin and fur around the paw's toe pads. This keeps the claws sharp by preventing wear from contact with the ground and allows for the silent stalking of prey. The claws on the forefeet are typically sharper than those on the hindfeet.[55] Cats can voluntarily extend their claws on one or more paws. They may extend their claws in hunting or self-defense, climbing, kneading, or for extra traction on soft surfaces. Cats shed the outside layer of their claw sheaths when scratching rough surfaces.[56]\n",
            "\n",
            "Most cats have five claws on their front paws and four on their rear paws. The dewclaw is proximal to the other claws. More proximally is a protrusion which appears to be a sixth \"finger\". This special feature of the front paws on the inside of the wrists has no function in normal walking but is thought to be an antiskidding device used while jumping. Some cat breeds are prone to having extra digits (\"polydactyly\").[57] Polydactylous cats occur along North America's northeast coast and in Great Britain.[58]\n",
            "\n",
            "The cat is digitigrade. It walks on the toes, with the bones of the feet making up the lower part of the visible leg.[59] Unlike most mammals, it uses a \"pacing\" gait and moves both legs on one side of the body before the legs on the other side. It registers directly by placing each hind paw close to the track of the corresponding fore paw, minimizing noise and visible tracks. This also provides sure footing for hind paws when navigating rough terrain. As it speeds up from walking to trotting, its gait changes to a \"diagonal\" gait: The diagonally opposite hind and fore legs move simultaneously.[60]\n",
            "\n",
            "Cats are generally fond of sitting in high places or perching. A higher place may serve as a concealed site from which to hunt; domestic cats strike prey by pouncing from a perch such as a tree branch. Another possible explanation is that height gives the cat a better observation point, allowing it to survey its territory. A cat falling from heights of up to 3 meters (9.8 ft) can right itself and land on its paws.[61]\n",
            "\n",
            "During a fall from a high place, a cat reflexively twists its body and rights itself to land on its feet using its acute sense of balance and flexibility. This reflex is known as the cat righting reflex.[62] A cat always rights itself in the same way during a fall, if it has enough time to do so, which is the case in falls of 90 cm (2 ft 11 in) or more.[63] How cats are able to right themselves when falling has been investigated as the \"falling cat problem\".[64]\n",
            "\n",
            "The cat family (Felidae) can pass down many colors and patterns to their offspring. The domestic cat genes MC1R and ASIP allow for the variety of color in coats. The feline ASIP gene consists of three coding exons.[65] Three novel microsatellite markers linked to ASIP were isolated from a domestic cat BAC clone containing this gene and were used to perform linkage analysis in a pedigree of 89 domestic cats that segregated for melanism.[citation needed]\n",
            "\n",
            "Cats have excellent night vision and can see at only one-sixth the light level required for human vision.[51]: 43  This is partly the result of cat eyes having a tapetum lucidum, which reflects any light that passes through the retina back into the eye, thereby increasing the eye's sensitivity to dim light.[66] Large pupils are an adaptation to dim light. The domestic cat has slit pupils, which allow it to focus bright light without chromatic aberration.[67] At low light, a cat's pupils expand to cover most of the exposed surface of its eyes.[68] The domestic cat has rather poor color vision and only two types of cone cells, optimized for sensitivity to blue and yellowish green; its ability to distinguish between red and green is limited.[69] A response to middle wavelengths from a system other than the rod cells might be due to a third type of cone. This appears to be an adaptation to low light levels rather than representing true trichromatic vision.[70] Cats also have a nictitating membrane, allowing them to blink without hindering their vision.\n",
            "\n",
            "The domestic cat's hearing is most acute in the range of 500 Hz to 32 kHz.[71] It can detect an extremely broad range of frequencies ranging from 55 Hz to 79 kHz, whereas humans can only detect frequencies between 20 Hz and 20 kHz. It can hear a range of 10.5 octaves, while humans and dogs can hear ranges of about 9 octaves.[72][73]\n",
            "Its hearing sensitivity is enhanced by its large movable outer ears, the pinnae, which amplify sounds and help detect the location of a noise. It can detect ultrasound, which enables it to detect ultrasonic calls made by rodent prey.[74][75] Recent research has shown that cats have socio-spatial cognitive abilities to create mental maps of owners' locations based on hearing owners' voices.[76]\n",
            "\n",
            "Cats have an acute sense of smell, due in part to their well-developed olfactory bulb and a large surface of olfactory mucosa, about 5.8 square centimetres (29⁄32 square inch) in area, which is about twice that of humans.[77] Cats and many other animals have a Jacobson's organ in their mouths that is used in the behavioral process of flehmening. It allows them to sense certain aromas in a way that humans cannot. Cats are sensitive to pheromones such as 3-mercapto-3-methylbutan-1-ol,[78] which they use to communicate through urine spraying and marking with scent glands.[79] Many cats also respond strongly to plants that contain nepetalactone, especially catnip, as they can detect that substance at less than one part per billion.[80] About 70–80% of cats are affected by nepetalactone.[81] This response is also produced by other plants, such as silver vine (Actinidia polygama) and the herb valerian; it may be caused by the smell of these plants mimicking a pheromone and stimulating cats' social or sexual behaviors.[82]\n",
            "\n",
            "Cats have relatively few taste buds compared to humans (470 or so versus more than 9,000 on the human tongue).[83] Domestic and wild cats share a taste receptor gene mutation that keeps their sweet taste buds from binding to sugary molecules, leaving them with no ability to taste sweetness.[84] They, however, possess taste bud receptors specialized for acids, amino acids like protein, and bitter tastes.[85] Their taste buds possess the receptors needed to detect umami. However, these receptors contain molecular changes that make the cat taste of umami different from that of humans. In humans, they detect the amino acids of glutamic acid and aspartic acid, but in cats they instead detect nucleotides, in this case inosine monophosphate and l-Histidine.[86] These nucleotides are particularly enriched in tuna.[86] This has been argued is why cats find tuna so palatable: as put by researchers into cat taste, \"the specific combination of the high IMP and free l-Histidine contents of tuna\" .. \"produces a strong umami taste synergy that is highly preferred by cats\".[86] One of the researchers involved in this research has further claimed, \"I think umami is as important for cats as sweet is for humans\".[87]\n",
            "\n",
            "Cats also have a distinct temperature preference for their food, preferring food with a temperature around 38 °C (100 °F) which is similar to that of a fresh kill and routinely rejecting food presented cold or refrigerated (which would signal to the cat that the \"prey\" item is long dead and therefore possibly toxic or decomposing).[83]\n",
            "\n",
            "To aid with navigation and sensation, cats have dozens of movable whiskers (vibrissae) over their body, especially their faces. These provide information on the width of gaps and on the location of objects in the dark, both by touching objects directly and by sensing air currents; they also trigger protective blink reflexes to protect the eyes from damage.[51]: 47 \n",
            "\n",
            "Outdoor cats are active both day and night, although they tend to be slightly more active at night.[88] Domestic cats spend the majority of their time in the vicinity of their homes but can range many hundreds of meters from this central point. They establish territories that vary considerably in size, in one study ranging from 7 to 28 hectares (17–69 acres).[89] The timing of cats' activity is quite flexible and varied but being low-light predators, they are generally crepuscular, which means they tend to be more active in the morning and evening. However, house cats' behaviour is also influenced by human activity and they may adapt to their owners' sleeping patterns to some extent.[90][91]\n",
            "\n",
            "Cats conserve energy by sleeping more than most animals, especially as they grow older. The daily duration of sleep varies, usually between 12 and 16 hours, with 13 and 14 being the average. Some cats can sleep as much as 20 hours. The term \"cat nap\" for a short rest refers to the cat's tendency to fall asleep (lightly) for a brief period. While asleep, cats experience short periods of rapid eye movement sleep often accompanied by muscle twitches, which suggests they are dreaming.[92]\n",
            "\n",
            "The social behavior of the domestic cat ranges from widely dispersed individuals to feral cat colonies that gather around a food source, based on groups of co-operating females.[93][94] Within such groups, one cat is usually dominant over the others.[95] Each cat in a colony holds a distinct territory, with sexually active males having the largest territories, which are about 10 times larger than those of female cats and may overlap with several females' territories. These territories are marked by urine spraying, by rubbing objects at head height with secretions from facial glands, and by defecation.[79] Between these territories are neutral areas where cats watch and greet one another without territorial conflicts. Outside these neutral areas, territory holders usually chase away stranger cats, at first by staring, hissing, and growling and, if that does not work, by short but noisy and violent attacks. Despite this colonial organization, cats do not have a social survival strategy or a pack mentality, and always hunt alone.[96]\n",
            "\n",
            "Life in proximity to humans and other domestic animals has led to a symbiotic social adaptation in cats, and cats may express great affection toward humans or other animals. Ethologically, a cat's human keeper functions as if a mother surrogate.[97] Adult cats live their lives in a kind of extended kittenhood, a form of behavioral neoteny. Their high-pitched sounds may mimic the cries of a hungry human infant, making them particularly difficult for humans to ignore.[98] Some pet cats are poorly socialized. In particular, older cats show aggressiveness toward newly arrived kittens, which include biting and scratching; this type of behavior is known as feline asocial aggression.[99]\n",
            "\n",
            "Redirected aggression is a common form of aggression which can occur in multiple cat households. In redirected aggression there is usually something that agitates the cat: this could be a sight, sound, or another source of stimuli which causes a heightened level of anxiety or arousal. If the cat cannot attack the stimuli, it may direct anger elsewhere by attacking or directing aggression to the nearest cat, dog, human or other being.[100][101]\n",
            "\n",
            "Domestic cats' scent rubbing behavior toward humans or other cats is thought to be a feline means for social bonding.[102]\n",
            "\n",
            "Domestic cats use many vocalizations for communication, including purring, trilling, hissing, growling/snarling, grunting, and several different forms of meowing.[103] Their body language, including position of ears and tail, relaxation of the whole body, and kneading of the paws, are all indicators of mood. The tail and ears are particularly important social signal mechanisms in cats. A raised tail indicates a friendly greeting, and flattened ears indicate hostility. Tail-raising also indicates the cat's position in the group's social hierarchy, with dominant individuals raising their tails less often than subordinate ones.[104] Feral cats are generally silent.[105]: 208  Nose-to-nose touching is also a common greeting and may be followed by social grooming, which is solicited by one of the cats raising and tilting its head.[93]\n",
            "\n",
            "Purring may have developed as an evolutionary advantage as a signaling mechanism of reassurance between mother cats and nursing kittens, who are thought to use it as a care-soliciting signal.[106]\n",
            "Post-nursing cats also often purr as a sign of contentment: when being petted, becoming relaxed,[107][108] or eating. Even though purring is popularly interpreted as indicative of pleasure, it has been recorded in a wide variety of circumstances, most of which involve physical contact between the cat and another, presumably trusted individual.[106] Some cats have been observed to purr continuously when chronically ill or in apparent pain.[109]\n",
            "\n",
            "The exact mechanism by which cats purr has long been elusive, but it has been proposed that purring is generated via a series of sudden build-ups and releases of pressure as the glottis is opened and closed, which causes the vocal folds to separate forcefully. The laryngeal muscles in control of the glottis are thought to be driven by a neural oscillator which generates a cycle of contraction and release every 30–40 milliseconds (giving a frequency of 33 to 25 Hz).[106][110][111]\n",
            "\n",
            "Domestic cats observed in a rescue facility have total of 276 distinct facial expressions based on 26 different facial movements; each facial expression corresponds to different social functions that are likely influenced by domestication.[112]\n",
            "\n",
            "Cats are known for spending considerable amounts of time licking their coats to keep them clean.[113][114] The cat's tongue has backward-facing spines about 500 μm long, which are called papillae. These contain keratin which makes them rigid[115] so the papillae act like a hairbrush. Some cats, particularly longhaired cats, occasionally regurgitate hairballs of fur that have collected in their stomachs from grooming. These clumps of fur are usually sausage-shaped and about 2–3 cm (3⁄4–1+1⁄4 in) long. Hairballs can be prevented with remedies that ease elimination of the hair through the gut, as well as regular grooming of the coat with a comb or stiff brush.[113]\n",
            "\n",
            "Among domestic cats, males are more likely to fight than females.[116] Among feral cats, the most common reason for cat fighting is competition between two males to mate with a female. In such cases, most fights are won by the heavier male.[117] Another common reason for fighting in domestic cats is the difficulty of establishing territories within a small home.[116] Female cats also fight over territory or to defend their kittens. Neutering will decrease or eliminate this behavior in many cases, suggesting that the behavior is linked to sex hormones.[118]\n",
            "\n",
            "When cats become aggressive, they try to make themselves appear larger and more threatening by raising their fur, arching their backs, turning sideways and hissing or spitting.[119] Often, the ears are pointed down and back to avoid damage to the inner ear and potentially listen for any changes behind them while focused forward. Cats may also vocalize loudly and bare their teeth in an effort to further intimidate their opponents. Fights usually consist of grappling and delivering powerful slaps to the face and body with the forepaws as well as bites. Cats also throw themselves to the ground in a defensive posture to rake their opponent's belly with their powerful hind legs.[120]\n",
            "\n",
            "Serious damage is rare, as the fights are usually short in duration, with the loser running away with little more than a few scratches to the face and ears. Fights for mating rights are typically more severe and injuries may include deep puncture wounds and lacerations. Normally, serious injuries from fighting are limited to infections of scratches and bites, though these can occasionally kill cats if untreated. In addition, bites are probably the main route of transmission of feline immunodeficiency virus.[121] Sexually active males are usually involved in many fights during their lives, and often have decidedly battered faces with obvious scars and cuts to their ears and nose.[122] Cats are willing to threaten animals larger than them to defend their territory, such as dogs and foxes.[123]\n",
            "\n",
            "The shape and structure of cats' cheeks is insufficient to allow them to take in liquids using suction. Therefore, when drinking they lap with the tongue to draw liquid upward into their mouths. Lapping at a rate of four times a second, the cat touches the smooth tip of its tongue to the surface of the water, and quickly retracts it like a corkscrew, drawing water upward.[124][125]\n",
            "\n",
            "Feral cats and free-fed house cats consume several small meals in a day. The frequency and size of meals varies between individuals. They select food based on its temperature, smell and texture; they dislike chilled foods and respond most strongly to moist foods rich in amino acids, which are similar to meat. Cats reject novel flavors (a response termed neophobia) and learn quickly to avoid foods that have tasted unpleasant in the past.[96][126] It is also a common misconception that cats like milk/cream, as they tend to avoid sweet food and milk. Most adult cats are lactose intolerant; the sugar in milk is not easily digested and may cause soft stools or diarrhea.[127] Some also develop odd eating habits and like to eat or chew on things like wool, plastic, cables, paper, string, aluminum foil, or even coal. This condition, pica, can threaten their health, depending on the amount and toxicity of the items eaten.[128]\n",
            "\n",
            "Cats hunt small prey, primarily birds and rodents,[129] and are often used as a form of pest control.[130][131] Cats use two hunting strategies, either stalking prey actively, or waiting in ambush until an animal comes close enough to be captured.[132] The strategy used depends on the prey species in the area, with cats waiting in ambush outside burrows, but tending to actively stalk birds.[133]: 153  Domestic cats are a major predator of wildlife in the United States, killing an estimated 1.3 to 4.0 billion birds and 6.3 to 22.3 billion mammals annually.[134]\n",
            "\n",
            "Certain species appear more susceptible than others; in one English village, for example, 30% of house sparrow mortality was linked to the domestic cat.[135] In the recovery of ringed robins (Erithacus rubecula) and dunnocks (Prunella modularis) in Britain, 31% of deaths were a result of cat predation.[136] In parts of North America, the presence of larger carnivores such as coyotes which prey on cats and other small predators reduces the effect of predation by cats and other small predators such as opossums and raccoons on bird numbers and variety.[137]\n",
            "\n",
            "Perhaps the best-known element of cats' hunting behavior, which is commonly misunderstood and often appalls cat owners because it looks like torture, is that cats often appear to \"play\" with prey by releasing and recapturing it. This cat and mouse behavior is due to an instinctive imperative to ensure that the prey is weak enough to be killed without endangering the cat.[138]\n",
            "\n",
            "Another poorly understood element of cat hunting behavior is the presentation of prey to human guardians. One explanation is that cats adopt humans into their social group and share excess kill with others in the group according to the dominance hierarchy, in which humans are reacted to as if they are at or near the top.[139] Another explanation is that they attempt to teach their guardians to hunt or to help their human as if feeding \"an elderly cat, or an inept kitten\".[140] This hypothesis is inconsistent with the fact that male cats also bring home prey, despite males having negligible involvement in raising kittens.[133]: 153 \n",
            "\n",
            "Domestic cats, especially young kittens, are known for their love of play. This behavior mimics hunting and is important in helping kittens learn to stalk, capture, and kill prey.[141] Cats also engage in play fighting, with each other and with humans. This behavior may be a way for cats to practice the skills needed for real combat, and might also reduce any fear they associate with launching attacks on other animals.[142]\n",
            "\n",
            "Cats also tend to play with toys more when they are hungry.[143] Owing to the close similarity between play and hunting, cats prefer to play with objects that resemble prey, such as small furry toys that move rapidly, but rapidly lose interest. They become habituated to a toy they have played with before.[144] String is often used as a toy, but if it is eaten, it can become caught at the base of the cat's tongue and then move into the intestines, a medical emergency which can cause serious illness, even death.[145] Owing to the risks posed by cats eating string, it is sometimes replaced with a laser pointer's dot, which cats may chase.[146]\n",
            "\n",
            "The cat secretes and perceives pheromones.[147]\n",
            "Female cats, called queens, are polyestrous with several estrus cycles during a year, lasting usually 21 days. They are usually ready to mate between early February and August[148] in northern temperate zones and throughout the year in equatorial regions.[149]\n",
            "\n",
            "Several males, called tomcats, are attracted to a female in heat. They fight over her, and the victor wins the right to mate. At first, the female rejects the male, but eventually, the female allows the male to mate. The female utters a loud yowl as the male pulls out of her because a male cat's penis has a band of about 120–150 backward-pointing penile spines, which are about 1 mm (1⁄32 in) long; upon withdrawal of the penis, the spines may provide the female with increased sexual stimulation, which acts to induce ovulation.[150]\n",
            "\n",
            "After mating, the female cleans her vulva thoroughly. If a male attempts to mate with her at this point, the female attacks him. After about 20 to 30 minutes, once the female is finished grooming, the cycle will repeat.[151] Because ovulation is not always triggered by a single mating, females may not be impregnated by the first male with which they mate.[152] Furthermore, cats are superfecund; that is, a female may mate with more than one male when she is in heat, with the result that different kittens in a litter may have different fathers.[151]\n",
            "\n",
            "The morula forms 124 hours after conception. At 148 hours, early blastocysts form. At 10–12 days, implantation occurs.[153] The gestation of queens lasts between 64 and 67 days, with an average of 65 days.[148][154]\n",
            "\n",
            "Data on the reproductive capacity of more than 2,300 free-ranging queens were collected during a study between May 1998 and October 2000. They had one to six kittens per litter, with an average of three kittens. They produced a mean of 1.4 litters per year, but a maximum of three litters in a year. Of 169 kittens, 127 died before they were six months old due to a trauma caused in most cases by dog attacks and road accidents.[155]\n",
            "The first litter is usually smaller than subsequent litters. Kittens are weaned between six and seven weeks of age. Queens normally reach sexual maturity at 5–10 months, and males at 5–7 months. This varies depending on breed.[151] Kittens reach puberty at the age of 9–10 months.[148]\n",
            "\n",
            "Cats are ready to go to new homes at about 12 weeks of age, when they are ready to leave their mother.[156] They can be surgically sterilized (spayed or castrated) as early as seven weeks to limit unwanted reproduction.[157] This surgery also prevents undesirable sex-related behavior, such as aggression, territory marking (spraying urine) in males and yowling (calling) in females. Traditionally, this surgery was performed at around six to nine months of age, but it is increasingly being performed before puberty, at about three to six months.[158] In the United States, about 80% of household cats are neutered.[159]\n",
            "\n",
            "The average lifespan of pet cats has risen in recent decades. In the early 1980s, it was about seven years,[160]: 33 [161] rising to 9.4 years in 1995[160]: 33  and about 15 years in 2021.[citation needed] Some cats have been reported as surviving into their 30s,[162] with the oldest known cat, Creme Puff, dying at a verified age of 38.[163]\n",
            "\n",
            "Neutering increases life expectancy: one study found castrated male cats live twice as long as intact males, while spayed female cats live 62% longer than intact females.[160]: 35  Having a cat neutered confers health benefits, because castrated males cannot develop testicular cancer, spayed females cannot develop uterine or ovarian cancer, and both have a reduced risk of mammary cancer.[164]\n",
            "\n",
            "About 250 heritable genetic disorders have been identified in cats, many similar to human inborn errors of metabolism.[165] The high level of similarity among the metabolism of mammals allows many of these feline diseases to be diagnosed using genetic tests that were originally developed for use in humans, as well as the use of cats as animal models in the study of the human diseases.[166][167] Diseases affecting domestic cats include acute infections, parasitic infestations, injuries, and chronic diseases such as kidney disease, thyroid disease, and arthritis. Vaccinations are available for many infectious diseases, as are treatments to eliminate parasites such as worms, ticks, and fleas.[168]\n",
            "\n",
            "The domestic cat is a cosmopolitan species and occurs across much of the world.[46] It is adaptable and now present on all continents except Antarctica, and on 118 of the 131 main groups of islands, even on the isolated Kerguelen Islands.[169][170] Due to its ability to thrive in almost any terrestrial habitat, it is among the world's most invasive species.[171] It lives on small islands with no human inhabitants.[172] Feral cats can live in forests, grasslands, tundra, coastal areas, agricultural land, scrublands, urban areas, and wetlands.[173]\n",
            "\n",
            "The unwantedness that leads to the domestic cat being treated as an invasive species is twofold. On one hand, as it is little altered from the wildcat, it can readily interbreed with the wildcat. This hybridization poses a danger to the genetic distinctiveness of some wildcat populations, particularly in Scotland and Hungary, possibly also the Iberian Peninsula, and where protected natural areas are close to human-dominated landscapes, such as Kruger National Park in South Africa.[174][43] On the other hand, and perhaps more obviously, its introduction to places where no native felines are present contributes to the decline of native species.[175]\n",
            "\n",
            "Feral cats are domestic cats that were born in or have reverted to a wild state. They are unfamiliar with and wary of humans and roam freely in urban and rural areas.[176] The numbers of feral cats is not known, but estimates of the United States feral population range from 25 to 60 million.[176] Feral cats may live alone, but most are found in large colonies, which occupy a specific territory and are usually associated with a source of food.[177] Famous feral cat colonies are found in Rome around the Colosseum and Forum Romanum, with cats at some of these sites being fed and given medical attention by volunteers.[178]\n",
            "\n",
            "Public attitudes toward feral cats vary widely, from seeing them as free-ranging pets to regarding them as vermin.[179]\n",
            "\n",
            "Some feral cats can be successfully socialized and 're-tamed' for adoption; young cats, especially kittens[180] and cats that have had prior experience and contact with humans are the most receptive to these efforts.\n",
            "\n",
            "On islands, birds can contribute as much as 60% of a cat's diet.[181] In nearly all cases, the cat cannot be identified as the sole cause for reducing the numbers of island birds, and in some instances, eradication of cats has caused a \"mesopredator release\" effect;[182] where the suppression of top carnivores creates an abundance of smaller predators that cause a severe decline in their shared prey. Domestic cats are a contributing factor to the decline of many species, a factor that has ultimately led, in some cases, to extinction. The South Island piopio, Chatham rail,[136] and the New Zealand merganser[183] are a few from a long list, with the most extreme case being the flightless Lyall's wren, which was driven to extinction only a few years after its discovery.[184][185]\n",
            "One feral cat in New Zealand killed 102 New Zealand lesser short-tailed bats in seven days.[186] In the US, feral and free-ranging domestic cats kill an estimated 6.3 – 22.3 billion mammals annually.[134]\n",
            "\n",
            "In Australia, the impact of cats on mammal populations is even greater than the impact of habitat loss.[187] More than one million reptiles are killed by feral cats each day, representing 258 species.[188] Cats have contributed to the extinction of the Navassa curly-tailed lizard and Chioninia coctei.[175]\n",
            "\n",
            "Cats are common pets throughout the world, and their worldwide population as of 2007 exceeded 500 million.[189]\n",
            "As of 2017,[update] the domestic cat was the second most popular pet in the United States, with 95.6 million cats owned[190][191] and around 42 million households owning at least one cat.[192] In the United Kingdom, 26% of adults have a cat, with an estimated population of 10.9 million pet cats as of 2020.[update][193] As of 2021,[update] there were an estimated 220 million owned and 480 million stray cats in the world.[194][195][196]\n",
            "\n",
            "Cats have been used for millennia to control rodents, notably around grain stores and aboard ships, and both uses extend to the present day.[197][198]\n",
            "\n",
            "As well as being kept as pets, cats are also used in the international fur trade[199] and leather industries for making coats, hats, blankets, stuffed toys,[200] shoes, gloves, and musical instruments.[201] About 24 cats are needed to make a cat-fur coat.[202] This use has been outlawed in the United States since 2000 and in the European Union (as well as the United Kingdom) since 2007.[203]\n",
            "\n",
            "Cat pelts have been used for superstitious purposes as part of the practice of witchcraft,[204] and are still made into blankets in Switzerland as traditional medicine thought to cure rheumatism.[205]\n",
            "\n",
            "A few attempts to build a cat census have been made over the years, both through associations or national and international organizations (such as that of the Canadian Federation of Humane Societies[206]) and over the Internet,[207][208] but such a task does not seem simple to achieve. General estimates for the global population of domestic cats range widely from anywhere between 200 million to 600 million.[209][210][211][212][213] Walter Chandoha made his career photographing cats after his 1949 images of Loco, an especially charming stray taken in, were published around the world. He is reported to have photographed 90,000 cats during his career and maintained an archive of 225,000 images that he drew from for publications during his lifetime.[214]\n",
            "\n",
            "A cat show is a judged event in which the owners of cats compete to win titles in various cat-registering organizations by entering their cats to be judged after a breed standard.[215] It is often required that a cat must be healthy and vaccinated in order to participate in a cat show.[215] Both pedigreed and non-purebred companion (\"moggy\") cats are admissible, although the rules differ depending on the organization. Competing cats are compared to the applicable breed standard, and assessed for temperament.[215]\n",
            "\n",
            "Cats can be infected or infested with viruses, bacteria, fungus, protozoans, arthropods or worms that can transmit diseases to humans.[216] In some cases, the cat exhibits no symptoms of the disease.[217] The same disease can then become evident in a human.[218] The likelihood that a person will become diseased depends on the age and immune status of the person. Humans who have cats living in their home or in close association are more likely to become infected. Others might also acquire infections from cat feces and parasites exiting the cat's body.[216][219] Some of the infections of most concern include salmonella, cat-scratch disease and toxoplasmosis.[217]\n",
            "\n",
            "In ancient Egypt, cats were worshipped, and the goddess Bastet often depicted in cat form, sometimes taking on the war-like aspect of a lioness. The Greek historian Herodotus reported that killing a cat was forbidden, and when a household cat died, the entire family mourned and shaved their eyebrows. Families took their dead cats to the sacred city of Bubastis, where they were embalmed and buried in sacred repositories. Herodotus expressed astonishment at the domestic cats in Egypt, because he had only ever seen wildcats.[220]\n",
            "\n",
            "Ancient Greeks and Romans kept weasels as pets, which were seen as the ideal rodent-killers. The earliest unmistakable evidence of the Greeks having domestic cats comes from two coins from Magna Graecia dating to the mid-fifth century BC showing Iokastos and Phalanthos, the legendary founders of Rhegion and Taras respectively, playing with their pet cats. The usual ancient Greek word for 'cat' was ailouros, meaning 'thing with the waving tail'. Cats are rarely mentioned in ancient Greek literature. Aristotle remarked in his History of Animals that \"female cats are naturally lecherous.\" The Greeks later syncretized their own goddess Artemis with the Egyptian goddess Bastet, adopting Bastet's associations with cats and ascribing them to Artemis. In Ovid's Metamorphoses, when the deities flee to Egypt and take animal forms, the goddess Diana turns into a cat.[221][222]\n",
            "\n",
            "Cats eventually displaced weasels as the pest control of choice because they were more pleasant to have around the house and were more enthusiastic hunters of mice. During the Middle Ages, many of Artemis's associations with cats were grafted onto the Virgin Mary. Cats are often shown in icons of Annunciation and of the Holy Family and, according to Italian folklore, on the same night that Mary gave birth to Jesus, a cat in Bethlehem gave birth to a kitten.[223] Domestic cats were spread throughout much of the rest of the world during the Age of Discovery, as ships' cats were carried on sailing ships to control shipboard rodents and as good-luck charms.[36]\n",
            "\n",
            "Several ancient religions believed cats are exalted souls, companions or guides for humans, that are all-knowing but mute so they cannot influence decisions made by humans. In Japan, the maneki neko cat is a symbol of good fortune.[224] In Norse mythology, Freyja, the goddess of love, beauty, and fertility, is depicted as riding a chariot drawn by cats.[225] In Jewish legend, the first cat was living in the house of the first man Adam as a pet that got rid of mice. The cat was once partnering with the first dog before the latter broke an oath they had made which resulted in enmity between the descendants of these two animals. It is also written that neither cats nor foxes are represented in the water, while every other animal has an incarnation species in the water.[226] Although no species are sacred in Islam, cats are revered by Muslims. Some Western writers have stated Muhammad had a favorite cat, Muezza.[227] He is reported to have loved cats so much, \"he would do without his cloak rather than disturb one that was sleeping on it\".[228] The story has no origin in early Muslim writers, and seems to confuse a story of a later Sufi saint, Ahmed ar-Rifa'i, centuries after Muhammad.[229] One of the companions of Muhammad was known as Abu Hurayrah (\"father of the kitten\"), in reference to his documented affection to cats.[230]\n",
            "\n",
            "The ancient Egyptians mummified dead cats out of respect in the same way that they mummified people[231]\n",
            "\n",
            "Ancient Roman mosaic of a cat killing a partridge from the House of the Faun in Pompeii\n",
            "\n",
            "A 19th-century drawing of a tabby cat\n",
            "\n",
            "Some cultures are superstitious about black cats, ascribing either good or bad luck to them.\n",
            "\n",
            "Many cultures have negative superstitions about cats. An example would be the belief that encountering a black cat (\"crossing one's path\") leads to bad luck, or that cats are witches' familiars used to augment a witch's powers and skills. The killing of cats in Medieval Ypres, Belgium, is commemorated in the innocuous present-day Kattenstoet (cat parade).[232] In mid-16th century France, cats would be burnt alive as a form of entertainment, particularly during midsummer festivals. According to Norman Davies, the assembled people \"shrieked with laughter as the animals, howling with pain, were singed, roasted, and finally carbonized\".[233] The remaining ashes were sometimes taken back home by the people for good luck.[234]\n",
            "\n",
            "According to a myth in many cultures, cats have multiple lives. In many countries, they are believed to have nine lives, but in Italy, Germany, Greece, Brazil and some Spanish-speaking regions, they are said to have seven lives,[235][236] while in Arabic traditions, the number of lives is six.[237] An early mention of the myth can be found in John Heywood's The Proverbs of John Heywood (1546):[238]\n",
            "\n",
            "Husband, (quoth she), ye studie, be merrie now,And even as ye thinke now, so come to yow.Nay not so, (quoth he), for my thought to tell right,I thinke how you lay groning, wife, all last night.Husband, a groning horse and a groning wifeNever faile their master, (quoth she), for my life.No wife, a woman hath nine lives like a cat.\n",
            "The myth is attributed to the natural suppleness and swiftness cats exhibit to escape life-threatening situations.[239] Also lending credence to this myth is the fact that falling cats often land on their feet, using an instinctive righting reflex to twist their bodies around. Nonetheless, cats can still be injured or killed by a high fall.[240]\n",
            "\n"
          ]
        }
      ]
    },
    {
      "cell_type": "code",
      "source": [
        "links = soup.find_all(\"a\")  # BeautifulSoup finds all <a> tags in the HTML and wraps them in a list"
      ],
      "metadata": {
        "id": "iHrwT0FhmWkk"
      },
      "execution_count": 9,
      "outputs": []
    },
    {
      "cell_type": "code",
      "source": [
        "idx = 0\n",
        "\n",
        "while idx < 10:\n",
        "  try:\n",
        "    new_url = links[idx].get(\"href\")\n",
        "\n",
        "    if new_url.startswith(\"/wiki/\"):\n",
        "      new_url = url[:-9] + new_url\n",
        "\n",
        "    new_response = requests.get(new_url)\n",
        "    new_soup = BeautifulSoup(new_response.content, \"html.parser\")\n",
        "    print(new_soup.title.string)  # prints a title string\n",
        "  except:\n",
        "    print(\"pass\")\n",
        "\n",
        "  idx += 1"
      ],
      "metadata": {
        "colab": {
          "base_uri": "https://localhost:8080/"
        },
        "id": "-55jmZ3wmkpR",
        "outputId": "b22c54d4-3db4-41a7-9064-d2790197645e"
      },
      "execution_count": 10,
      "outputs": [
        {
          "output_type": "stream",
          "name": "stdout",
          "text": [
            "pass\n",
            "Wikipedia, the free encyclopedia\n",
            "Wikipedia:Contents - Wikipedia\n",
            "Portal:Current events - Wikipedia\n",
            "Jaffna Hindu Ladies' College - Wikipedia\n",
            "Wikipedia:About - Wikipedia\n",
            "pass\n",
            "Make your donation now - Wikimedia Foundation\n",
            "Help:Contents - Wikipedia\n",
            "Help:Introduction - Wikipedia\n"
          ]
        }
      ]
    },
    {
      "cell_type": "code",
      "source": [
        "class_contents = soup.find_all(class_=\"catlinks\")  # gets the contents by class name\n",
        "id_contents = soup.find_all(id=\"catlinks\")         # gets the contents by ID name"
      ],
      "metadata": {
        "id": "nsHAnGRRpO51"
      },
      "execution_count": 11,
      "outputs": []
    }
  ]
}