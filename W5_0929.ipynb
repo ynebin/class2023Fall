{
  "nbformat": 4,
  "nbformat_minor": 0,
  "metadata": {
    "colab": {
      "provenance": [],
      "authorship_tag": "ABX9TyPUMUOdcJvi/Dh8qsbPGJiC",
      "include_colab_link": true
    },
    "kernelspec": {
      "name": "python3",
      "display_name": "Python 3"
    },
    "language_info": {
      "name": "python"
    }
  },
  "cells": [
    {
      "cell_type": "markdown",
      "metadata": {
        "id": "view-in-github",
        "colab_type": "text"
      },
      "source": [
        "<a href=\"https://colab.research.google.com/github/ynebin/class2023Fall/blob/main/W5_0929.ipynb\" target=\"_parent\"><img src=\"https://colab.research.google.com/assets/colab-badge.svg\" alt=\"Open In Colab\"/></a>"
      ]
    },
    {
      "cell_type": "markdown",
      "source": [
        "# String formatting\n",
        "* the process of creating formatted strings\n",
        "* can insert and combine variables, values, and expressions within a string"
      ],
      "metadata": {
        "id": "q_6Um-s_As37"
      }
    },
    {
      "cell_type": "markdown",
      "source": [
        "## .format\n",
        "* creates placeholders enclosed in `{}`\n",
        "* replaces these placeholders with values"
      ],
      "metadata": {
        "id": "4jTVA68YA1iV"
      }
    },
    {
      "cell_type": "code",
      "execution_count": 1,
      "metadata": {
        "colab": {
          "base_uri": "https://localhost:8080/"
        },
        "id": "IMdmqnulAmaY",
        "outputId": "5eb6fc28-7097-4008-91e7-5ba1bb5e4fd6"
      },
      "outputs": [
        {
          "output_type": "stream",
          "name": "stdout",
          "text": [
            "My name is Josh and I'm 25 years old.\n"
          ]
        }
      ],
      "source": [
        "name = \"Josh\"\n",
        "age = 25\n",
        "\n",
        "print(\"My name is {} and I'm {} years old.\".format(name, age))"
      ]
    },
    {
      "cell_type": "markdown",
      "source": [
        "## f-strings\n",
        "* can be used in Python >= 3.6\n",
        "* similar to `.format()` but more readable"
      ],
      "metadata": {
        "id": "VMacIe7RCnia"
      }
    },
    {
      "cell_type": "code",
      "source": [
        "print(f\"My name is {name} and I'm {age} years old.\")"
      ],
      "metadata": {
        "colab": {
          "base_uri": "https://localhost:8080/"
        },
        "id": "bp096VlnC2ne",
        "outputId": "e7e9b90d-2e09-44a4-c561-6c4aa055d6b8"
      },
      "execution_count": 2,
      "outputs": [
        {
          "output_type": "stream",
          "name": "stdout",
          "text": [
            "My name is Josh and I'm 25 years old.\n"
          ]
        }
      ]
    },
    {
      "cell_type": "markdown",
      "source": [
        "# File handling"
      ],
      "metadata": {
        "id": "vbi70Ua-DFnK"
      }
    },
    {
      "cell_type": "code",
      "source": [
        "# connecting to Google Drive\n",
        "\n",
        "from google.colab import drive\n",
        "\n",
        "drive.mount('/content/drive')"
      ],
      "metadata": {
        "colab": {
          "base_uri": "https://localhost:8080/"
        },
        "id": "5eKAJQjwDE4C",
        "outputId": "752ef6d1-75a1-4703-a94d-9be5188bf1cb"
      },
      "execution_count": 3,
      "outputs": [
        {
          "output_type": "stream",
          "name": "stdout",
          "text": [
            "Mounted at /content/drive\n"
          ]
        }
      ]
    },
    {
      "cell_type": "markdown",
      "source": [
        "## open\n",
        "* used to open and interact with files\n",
        "* `r`: read mode\n",
        "* `w`: write mode\n",
        "\n",
        "```\n",
        "f = open(x, 'w')\n",
        "f.close()\n",
        "```"
      ],
      "metadata": {
        "id": "nwp6claADVwy"
      }
    },
    {
      "cell_type": "code",
      "source": [
        "f = open('/content/drive/My Drive/a.txt', 'w')  # writes an empty file\n",
        "f.close()"
      ],
      "metadata": {
        "id": "ssPS9oPoFDQL"
      },
      "execution_count": 4,
      "outputs": []
    },
    {
      "cell_type": "markdown",
      "source": [
        "## .write\n",
        "* writes data to a file\n",
        "\n",
        "```\n",
        "f.write(x)\n",
        "```"
      ],
      "metadata": {
        "id": "LeD-BVYxFad3"
      }
    },
    {
      "cell_type": "code",
      "source": [
        "# simpler version of `open` and `close`\n",
        "with open('/content/drive/My Drive/a.txt', 'w') as f:\n",
        "  f.write('I\\n')  # \\n is a newline character\n",
        "  f.write('am\\n')\n",
        "  f.write('using\\n')\n",
        "  f.write('python.\\n')"
      ],
      "metadata": {
        "id": "_EZDdZIcFZYE"
      },
      "execution_count": 5,
      "outputs": []
    },
    {
      "cell_type": "markdown",
      "source": [
        "## .read\n",
        "* reads the entire contents of a file as a single string\n",
        "\n",
        "```\n",
        "f.read()\n",
        "```"
      ],
      "metadata": {
        "id": "j3m9ajOpGVFe"
      }
    },
    {
      "cell_type": "code",
      "source": [
        "with open('/content/drive/My Drive/a.txt', 'r') as f:\n",
        "  content = f.read()\n",
        "\n",
        "print(content)"
      ],
      "metadata": {
        "colab": {
          "base_uri": "https://localhost:8080/"
        },
        "id": "uEy7O0FOGKA4",
        "outputId": "dec6f7db-18d4-4122-bf45-66de5e1b630a"
      },
      "execution_count": 6,
      "outputs": [
        {
          "output_type": "stream",
          "name": "stdout",
          "text": [
            "I\n",
            "am\n",
            "using\n",
            "python.\n",
            "\n"
          ]
        }
      ]
    },
    {
      "cell_type": "markdown",
      "source": [
        "## .readlines\n",
        "* read the lines of a file into a list"
      ],
      "metadata": {
        "id": "1ybUH3xpGv4U"
      }
    },
    {
      "cell_type": "code",
      "source": [
        "with open('/content/drive/My Drive/a.txt', 'r') as f:\n",
        "  content = f.readlines()\n",
        "\n",
        "print(content)  # list comprehension needed"
      ],
      "metadata": {
        "colab": {
          "base_uri": "https://localhost:8080/"
        },
        "id": "MURZ3AFfGupK",
        "outputId": "0087667a-4a72-4b9b-cb03-276f6a718c3f"
      },
      "execution_count": 7,
      "outputs": [
        {
          "output_type": "stream",
          "name": "stdout",
          "text": [
            "['I\\n', 'am\\n', 'using\\n', 'python.\\n']\n"
          ]
        }
      ]
    },
    {
      "cell_type": "markdown",
      "source": [
        "### list comprehension\n",
        "* a simple way to create lists"
      ],
      "metadata": {
        "id": "bAGCO2F7G7VZ"
      }
    },
    {
      "cell_type": "code",
      "source": [
        "# for loop\n",
        "\n",
        "a = [1, 2, 3]\n",
        "\n",
        "for i in range(len(a)):   # [0, 1, 2]\n",
        "  a[i] += 1\n",
        "\n",
        "print(a)"
      ],
      "metadata": {
        "colab": {
          "base_uri": "https://localhost:8080/"
        },
        "id": "58630BuWGGSl",
        "outputId": "7fdb9960-c59d-4193-b657-dbce92a839ff"
      },
      "execution_count": 8,
      "outputs": [
        {
          "output_type": "stream",
          "name": "stdout",
          "text": [
            "[2, 3, 4]\n"
          ]
        }
      ]
    },
    {
      "cell_type": "markdown",
      "source": [
        "### .strip()\n",
        "\n",
        "* removes leading and trailing whitespaces in a string\n",
        "\n",
        "```\n",
        "x.strip()\n",
        "```"
      ],
      "metadata": {
        "id": "OimsjEI3IWKg"
      }
    },
    {
      "cell_type": "code",
      "source": [
        "a = \"  Hello\\n\"\n",
        "print(a.strip())"
      ],
      "metadata": {
        "colab": {
          "base_uri": "https://localhost:8080/"
        },
        "id": "dU36uOplIVU1",
        "outputId": "d07438d9-d0eb-49be-d869-1ecc2e2840ce"
      },
      "execution_count": 9,
      "outputs": [
        {
          "output_type": "stream",
          "name": "stdout",
          "text": [
            "Hello\n"
          ]
        }
      ]
    },
    {
      "cell_type": "markdown",
      "source": [
        "### list comprehension in file handling"
      ],
      "metadata": {
        "id": "b-G5E5KAIKs3"
      }
    },
    {
      "cell_type": "code",
      "source": [
        "content = [i.strip() for i in content]\n",
        "print(content)"
      ],
      "metadata": {
        "colab": {
          "base_uri": "https://localhost:8080/"
        },
        "id": "Njqe17kRGEjH",
        "outputId": "9da9dc60-af6d-47b2-b7ca-7c45ba41e895"
      },
      "execution_count": 10,
      "outputs": [
        {
          "output_type": "stream",
          "name": "stdout",
          "text": [
            "['I', 'am', 'using', 'python.']\n"
          ]
        }
      ]
    }
  ]
}